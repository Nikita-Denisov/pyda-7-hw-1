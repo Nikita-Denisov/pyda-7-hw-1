{
 "cells": [
  {
   "cell_type": "code",
   "execution_count": 1,
   "metadata": {},
   "outputs": [],
   "source": [
    "import numpy as np\n",
    "import pandas as pd\n",
    "\n",
    "from sklearn.linear_model import LinearRegression"
   ]
  },
  {
   "cell_type": "markdown",
   "metadata": {},
   "source": [
    "Создадим датасет с данных по клиентам Банка с кредитными картами. Имеются данные:\n",
    "\n",
    "visits - количество обращений клиента в офис/горячую линию Банка\n",
    "\n",
    "balance_credit - использованный остаток от овердрафта\n",
    "\n",
    "percent - ставка по процентам (в год)\n",
    "\n",
    "day_over - дни, на протяжении которых использовался овердрафт\n",
    "\n",
    "debt - процентный долг (за пользование овердрафтом) по кредитной карте"
   ]
  },
  {
   "cell_type": "code",
   "execution_count": 80,
   "metadata": {},
   "outputs": [
    {
     "data": {
      "text/html": [
       "<div>\n",
       "<style scoped>\n",
       "    .dataframe tbody tr th:only-of-type {\n",
       "        vertical-align: middle;\n",
       "    }\n",
       "\n",
       "    .dataframe tbody tr th {\n",
       "        vertical-align: top;\n",
       "    }\n",
       "\n",
       "    .dataframe thead th {\n",
       "        text-align: right;\n",
       "    }\n",
       "</style>\n",
       "<table border=\"1\" class=\"dataframe\">\n",
       "  <thead>\n",
       "    <tr style=\"text-align: right;\">\n",
       "      <th></th>\n",
       "      <th>balance_credit</th>\n",
       "      <th>percent</th>\n",
       "      <th>visits</th>\n",
       "      <th>day_over</th>\n",
       "      <th>debt</th>\n",
       "    </tr>\n",
       "  </thead>\n",
       "  <tbody>\n",
       "    <tr>\n",
       "      <th>0</th>\n",
       "      <td>18487</td>\n",
       "      <td>6</td>\n",
       "      <td>3</td>\n",
       "      <td>158</td>\n",
       "      <td>480.155507</td>\n",
       "    </tr>\n",
       "    <tr>\n",
       "      <th>1</th>\n",
       "      <td>28652</td>\n",
       "      <td>14</td>\n",
       "      <td>7</td>\n",
       "      <td>194</td>\n",
       "      <td>2132.022795</td>\n",
       "    </tr>\n",
       "    <tr>\n",
       "      <th>2</th>\n",
       "      <td>25680</td>\n",
       "      <td>12</td>\n",
       "      <td>11</td>\n",
       "      <td>133</td>\n",
       "      <td>1122.884384</td>\n",
       "    </tr>\n",
       "    <tr>\n",
       "      <th>3</th>\n",
       "      <td>28321</td>\n",
       "      <td>20</td>\n",
       "      <td>12</td>\n",
       "      <td>11</td>\n",
       "      <td>170.701918</td>\n",
       "    </tr>\n",
       "    <tr>\n",
       "      <th>4</th>\n",
       "      <td>5537</td>\n",
       "      <td>23</td>\n",
       "      <td>8</td>\n",
       "      <td>240</td>\n",
       "      <td>837.376438</td>\n",
       "    </tr>\n",
       "  </tbody>\n",
       "</table>\n",
       "</div>"
      ],
      "text/plain": [
       "   balance_credit  percent  visits  day_over         debt\n",
       "0           18487        6       3       158   480.155507\n",
       "1           28652       14       7       194  2132.022795\n",
       "2           25680       12      11       133  1122.884384\n",
       "3           28321       20      12        11   170.701918\n",
       "4            5537       23       8       240   837.376438"
      ]
     },
     "execution_count": 80,
     "metadata": {},
     "output_type": "execute_result"
    }
   ],
   "source": [
    "# Создаём сэмпл\n",
    "n_samples = 500\n",
    "\n",
    "balance_credit = np.random.choice(50000, n_samples) + 1000    #генерируем остатки от овердрафта от 1 до 50 тыс. р.\n",
    "percent = np.random.choice(20, n_samples) + 5                 #генерируем процентную ставку от 5% до 20%\n",
    "day_over = np.random.choice(365, n_samples)                   #генерируем дни от 0 до 365  \n",
    "visits = np.random.choice(15, n_samples)                      #генерируем обращения клиента от 0 до 15\n",
    "\n",
    "debt = (balance_credit * percent * day_over) / 365 * 0.01     #так в банке высчитывается процентный долг за пользование овердрафтом, но мы этого изначально не якобы не знаем!!!\n",
    "\n",
    "data = pd.DataFrame({'balance_credit': balance_credit, 'percent': percent, 'visits': visits, 'day_over': day_over, 'debt': debt})\n",
    "data.head()"
   ]
  },
  {
   "cell_type": "markdown",
   "metadata": {},
   "source": [
    "Обучим модель на всех признаках balance_credit, visits, percent и day_over"
   ]
  },
  {
   "cell_type": "code",
   "execution_count": 81,
   "metadata": {},
   "outputs": [
    {
     "name": "stdout",
     "output_type": "stream",
     "text": [
      "Weights: [7.67056013e-02 8.23517743e+00 1.35336410e+02 1.08139095e+01]\n",
      "Bias: -4038.979835166123\n",
      "Error: 681.6645415221523\n"
     ]
    }
   ],
   "source": [
    "from sklearn.metrics import mean_absolute_error\n",
    "\n",
    "X = data[['balance_credit', 'visits', 'percent', 'day_over']]\n",
    "y = data['debt']\n",
    "reg = LinearRegression().fit(X, y)\n",
    "print('Weights: {}'.format(reg.coef_))\n",
    "print('Bias: {}'.format(reg.intercept_))\n",
    "\n",
    "pred_values = reg.predict(data[['balance_credit', 'visits', 'percent', 'day_over']])\n",
    "print('Error: {}'.format(mean_absolute_error(pred_values, y)))"
   ]
  },
  {
   "cell_type": "markdown",
   "metadata": {},
   "source": [
    "Bias и ошибка довольно высокие. Линейной корреляции нет. "
   ]
  },
  {
   "cell_type": "markdown",
   "metadata": {},
   "source": [
    "Попробуем обучить модель только на признаках balance_credit и percent"
   ]
  },
  {
   "cell_type": "code",
   "execution_count": 82,
   "metadata": {},
   "outputs": [
    {
     "name": "stdout",
     "output_type": "stream",
     "text": [
      "Weights: [7.96160261e-02 1.51380549e+02]\n",
      "Bias: -2258.6592390745554\n",
      "Error: 1112.3051044555843\n"
     ]
    }
   ],
   "source": [
    "X = data[['balance_credit', 'percent']]\n",
    "y = data['debt']\n",
    "reg = LinearRegression().fit(X, y)\n",
    "print('Weights: {}'.format(reg.coef_))\n",
    "print('Bias: {}'.format(reg.intercept_))\n",
    "\n",
    "pred_values = reg.predict(data[['balance_credit', 'percent']])\n",
    "print('Error: {}'.format(mean_absolute_error(pred_values, y)))"
   ]
  },
  {
   "cell_type": "markdown",
   "metadata": {},
   "source": [
    "Ситуация не изменилась. Модель очень плохо предсказывает debt (процентный долг)"
   ]
  },
  {
   "cell_type": "markdown",
   "metadata": {},
   "source": [
    "Попробуем создань новый признак, использующий 3 уже имеющихся у нас признака!"
   ]
  },
  {
   "cell_type": "code",
   "execution_count": 90,
   "metadata": {},
   "outputs": [
    {
     "data": {
      "text/html": [
       "<div>\n",
       "<style scoped>\n",
       "    .dataframe tbody tr th:only-of-type {\n",
       "        vertical-align: middle;\n",
       "    }\n",
       "\n",
       "    .dataframe tbody tr th {\n",
       "        vertical-align: top;\n",
       "    }\n",
       "\n",
       "    .dataframe thead th {\n",
       "        text-align: right;\n",
       "    }\n",
       "</style>\n",
       "<table border=\"1\" class=\"dataframe\">\n",
       "  <thead>\n",
       "    <tr style=\"text-align: right;\">\n",
       "      <th></th>\n",
       "      <th>balance_credit</th>\n",
       "      <th>percent</th>\n",
       "      <th>visits</th>\n",
       "      <th>day_over</th>\n",
       "      <th>debt</th>\n",
       "      <th>duty</th>\n",
       "    </tr>\n",
       "  </thead>\n",
       "  <tbody>\n",
       "    <tr>\n",
       "      <th>0</th>\n",
       "      <td>18487</td>\n",
       "      <td>6</td>\n",
       "      <td>3</td>\n",
       "      <td>158</td>\n",
       "      <td>480.155507</td>\n",
       "      <td>48015.550685</td>\n",
       "    </tr>\n",
       "    <tr>\n",
       "      <th>1</th>\n",
       "      <td>28652</td>\n",
       "      <td>14</td>\n",
       "      <td>7</td>\n",
       "      <td>194</td>\n",
       "      <td>2132.022795</td>\n",
       "      <td>213202.279452</td>\n",
       "    </tr>\n",
       "    <tr>\n",
       "      <th>2</th>\n",
       "      <td>25680</td>\n",
       "      <td>12</td>\n",
       "      <td>11</td>\n",
       "      <td>133</td>\n",
       "      <td>1122.884384</td>\n",
       "      <td>112288.438356</td>\n",
       "    </tr>\n",
       "    <tr>\n",
       "      <th>3</th>\n",
       "      <td>28321</td>\n",
       "      <td>20</td>\n",
       "      <td>12</td>\n",
       "      <td>11</td>\n",
       "      <td>170.701918</td>\n",
       "      <td>17070.191781</td>\n",
       "    </tr>\n",
       "    <tr>\n",
       "      <th>4</th>\n",
       "      <td>5537</td>\n",
       "      <td>23</td>\n",
       "      <td>8</td>\n",
       "      <td>240</td>\n",
       "      <td>837.376438</td>\n",
       "      <td>83737.643836</td>\n",
       "    </tr>\n",
       "  </tbody>\n",
       "</table>\n",
       "</div>"
      ],
      "text/plain": [
       "   balance_credit  percent  visits  day_over         debt           duty\n",
       "0           18487        6       3       158   480.155507   48015.550685\n",
       "1           28652       14       7       194  2132.022795  213202.279452\n",
       "2           25680       12      11       133  1122.884384  112288.438356\n",
       "3           28321       20      12        11   170.701918   17070.191781\n",
       "4            5537       23       8       240   837.376438   83737.643836"
      ]
     },
     "execution_count": 90,
     "metadata": {},
     "output_type": "execute_result"
    }
   ],
   "source": [
    "# Создаем новый признак\n",
    "data['duty'] = data['balance_credit'] * data['percent'] * data['day_over'] / 365 \n",
    "data.head(5)"
   ]
  },
  {
   "cell_type": "markdown",
   "metadata": {},
   "source": [
    "Обучим модель по новому признаку duty"
   ]
  },
  {
   "cell_type": "code",
   "execution_count": 91,
   "metadata": {},
   "outputs": [
    {
     "name": "stdout",
     "output_type": "stream",
     "text": [
      "Weights: [0.01]\n",
      "Bias: -2.5011104298755527e-12\n",
      "Error: 1.8274612934021662e-12\n"
     ]
    }
   ],
   "source": [
    "X = data[['duty']]\n",
    "y = data['debt']\n",
    "reg = LinearRegression().fit(X, y)\n",
    "print('Weights: {}'.format(reg.coef_))\n",
    "print('Bias: {}'.format(reg.intercept_))\n",
    "\n",
    "pred_values = reg.predict(data[['duty']])\n",
    "print('Error: {}'.format(mean_absolute_error(pred_values, y)))"
   ]
  },
  {
   "cell_type": "markdown",
   "metadata": {},
   "source": [
    "Вес определён абсолютно точно. Сдвиг и ошибка практически равны 0. Соответвенно мы нашли признак (duty), который линейно зависим от debt и использует только 3 признака из нашей базы данных. Линейная модель обучена и она отлично предсказывает параметр debt. Таким образом можно сделать вывод, что в нашей базе данных признак visits (количество обращений клиента) является лишним и не оказывает никакого влияния на предсказание debt (процентный долг за пользование овердрафтом)."
   ]
  }
 ],
 "metadata": {
  "kernelspec": {
   "display_name": "Python 3",
   "language": "python",
   "name": "python3"
  },
  "language_info": {
   "codemirror_mode": {
    "name": "ipython",
    "version": 3
   },
   "file_extension": ".py",
   "mimetype": "text/x-python",
   "name": "python",
   "nbconvert_exporter": "python",
   "pygments_lexer": "ipython3",
   "version": "3.7.4"
  }
 },
 "nbformat": 4,
 "nbformat_minor": 2
}
