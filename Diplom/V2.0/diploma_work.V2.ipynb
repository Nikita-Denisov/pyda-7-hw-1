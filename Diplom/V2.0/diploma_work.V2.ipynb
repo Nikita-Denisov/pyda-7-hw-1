{
 "cells": [
  {
   "cell_type": "markdown",
   "metadata": {},
   "source": [
    "### Дипломная работа"
   ]
  },
  {
   "cell_type": "markdown",
   "metadata": {},
   "source": [
    "***1.Загрузить файл hr.csv.***"
   ]
  },
  {
   "cell_type": "code",
   "execution_count": 1,
   "metadata": {},
   "outputs": [],
   "source": [
    "import numpy as np\n",
    "from scipy.stats import t\n",
    "from scipy.stats import norm\n",
    "import matplotlib.pyplot as plt\n",
    "from scipy import stats\n",
    "import pandas as pd\n",
    "import io\n",
    "import requests\n",
    "import seaborn as sns\n",
    "sns.set_style('darkgrid')\n",
    "from scipy.stats import pearsonr\n",
    "import statistics"
   ]
  },
  {
   "cell_type": "code",
   "execution_count": 2,
   "metadata": {},
   "outputs": [
    {
     "data": {
      "text/html": [
       "<div>\n",
       "<style scoped>\n",
       "    .dataframe tbody tr th:only-of-type {\n",
       "        vertical-align: middle;\n",
       "    }\n",
       "\n",
       "    .dataframe tbody tr th {\n",
       "        vertical-align: top;\n",
       "    }\n",
       "\n",
       "    .dataframe thead th {\n",
       "        text-align: right;\n",
       "    }\n",
       "</style>\n",
       "<table border=\"1\" class=\"dataframe\">\n",
       "  <thead>\n",
       "    <tr style=\"text-align: right;\">\n",
       "      <th></th>\n",
       "      <th>satisfaction_level</th>\n",
       "      <th>last_evaluation</th>\n",
       "      <th>number_project</th>\n",
       "      <th>average_montly_hours</th>\n",
       "      <th>time_spend_company</th>\n",
       "      <th>Work_accident</th>\n",
       "      <th>left</th>\n",
       "      <th>promotion_last_5years</th>\n",
       "      <th>sales</th>\n",
       "      <th>salary</th>\n",
       "    </tr>\n",
       "  </thead>\n",
       "  <tbody>\n",
       "    <tr>\n",
       "      <th>0</th>\n",
       "      <td>0.38</td>\n",
       "      <td>0.53</td>\n",
       "      <td>2</td>\n",
       "      <td>157</td>\n",
       "      <td>3</td>\n",
       "      <td>0</td>\n",
       "      <td>1</td>\n",
       "      <td>0</td>\n",
       "      <td>sales</td>\n",
       "      <td>low</td>\n",
       "    </tr>\n",
       "    <tr>\n",
       "      <th>1</th>\n",
       "      <td>0.80</td>\n",
       "      <td>0.86</td>\n",
       "      <td>5</td>\n",
       "      <td>262</td>\n",
       "      <td>6</td>\n",
       "      <td>0</td>\n",
       "      <td>1</td>\n",
       "      <td>0</td>\n",
       "      <td>sales</td>\n",
       "      <td>medium</td>\n",
       "    </tr>\n",
       "    <tr>\n",
       "      <th>2</th>\n",
       "      <td>0.11</td>\n",
       "      <td>0.88</td>\n",
       "      <td>7</td>\n",
       "      <td>272</td>\n",
       "      <td>4</td>\n",
       "      <td>0</td>\n",
       "      <td>1</td>\n",
       "      <td>0</td>\n",
       "      <td>sales</td>\n",
       "      <td>medium</td>\n",
       "    </tr>\n",
       "    <tr>\n",
       "      <th>3</th>\n",
       "      <td>0.72</td>\n",
       "      <td>0.87</td>\n",
       "      <td>5</td>\n",
       "      <td>223</td>\n",
       "      <td>5</td>\n",
       "      <td>0</td>\n",
       "      <td>1</td>\n",
       "      <td>0</td>\n",
       "      <td>sales</td>\n",
       "      <td>low</td>\n",
       "    </tr>\n",
       "    <tr>\n",
       "      <th>4</th>\n",
       "      <td>0.37</td>\n",
       "      <td>0.52</td>\n",
       "      <td>2</td>\n",
       "      <td>159</td>\n",
       "      <td>3</td>\n",
       "      <td>0</td>\n",
       "      <td>1</td>\n",
       "      <td>0</td>\n",
       "      <td>sales</td>\n",
       "      <td>low</td>\n",
       "    </tr>\n",
       "  </tbody>\n",
       "</table>\n",
       "</div>"
      ],
      "text/plain": [
       "   satisfaction_level  last_evaluation  number_project  average_montly_hours  \\\n",
       "0                0.38             0.53               2                   157   \n",
       "1                0.80             0.86               5                   262   \n",
       "2                0.11             0.88               7                   272   \n",
       "3                0.72             0.87               5                   223   \n",
       "4                0.37             0.52               2                   159   \n",
       "\n",
       "   time_spend_company  Work_accident  left  promotion_last_5years  sales  \\\n",
       "0                   3              0     1                      0  sales   \n",
       "1                   6              0     1                      0  sales   \n",
       "2                   4              0     1                      0  sales   \n",
       "3                   5              0     1                      0  sales   \n",
       "4                   3              0     1                      0  sales   \n",
       "\n",
       "   salary  \n",
       "0     low  \n",
       "1  medium  \n",
       "2  medium  \n",
       "3     low  \n",
       "4     low  "
      ]
     },
     "execution_count": 2,
     "metadata": {},
     "output_type": "execute_result"
    }
   ],
   "source": [
    "dataset=pd.read_csv('C:/Users/User/Desktop/Python/Диплом/HR/HR.csv')\n",
    "dataset.head()"
   ]
  },
  {
   "cell_type": "markdown",
   "metadata": {},
   "source": [
    " "
   ]
  },
  {
   "cell_type": "markdown",
   "metadata": {},
   "source": [
    "***2. Рассчитать основные статистики для переменных (среднее,медиана,мода,мин/макс,сред.отклонение).***"
   ]
  },
  {
   "cell_type": "code",
   "execution_count": 6,
   "metadata": {},
   "outputs": [
    {
     "name": "stdout",
     "output_type": "stream",
     "text": [
      "Среднее для параметра satisfaction_level:  0.6128335222348157\n",
      "Медиана для параметра satisfaction_level:  0.64\n",
      "Мода для параметра satisfaction_level:  0.1\n",
      "Минимум для параметра satisfaction_level:  0.09\n",
      "Максимум для параметра satisfaction_level:  1.0\n",
      "Стандартное отклонение для параметра satisfaction_level:  0.2486223626820733\n"
     ]
    }
   ],
   "source": [
    "print('Среднее для параметра satisfaction_level: ', statistics.mean(dataset['satisfaction_level']))\n",
    "print('Медиана для параметра satisfaction_level: ', statistics.median(dataset['satisfaction_level']))\n",
    "print('Мода для параметра satisfaction_level: ', statistics.mode(dataset['satisfaction_level']))\n",
    "print('Минимум для параметра satisfaction_level: ', min(dataset['satisfaction_level']))\n",
    "print('Максимум для параметра satisfaction_level: ', max(dataset['satisfaction_level']))\n",
    "print('Стандартное отклонение для параметра satisfaction_level: ', statistics.pstdev(dataset['satisfaction_level']))"
   ]
  },
  {
   "cell_type": "code",
   "execution_count": 7,
   "metadata": {},
   "outputs": [
    {
     "name": "stdout",
     "output_type": "stream",
     "text": [
      "Среднее для параметра last_evaluation:  0.7161017401160077\n",
      "Медиана для параметра last_evaluation:  0.72\n",
      "Мода для параметра last_evaluation:  0.55\n",
      "Минимум для параметра last_evaluation:  0.36\n",
      "Максимум для параметра last_evaluation:  1.0\n",
      "Стандартное отклонение для параметра last_evaluation:  0.1711634045107436\n"
     ]
    }
   ],
   "source": [
    "print('Среднее для параметра last_evaluation: ', statistics.mean(dataset['last_evaluation']))\n",
    "print('Медиана для параметра last_evaluation: ', statistics.median(dataset['last_evaluation']))\n",
    "print('Мода для параметра last_evaluation: ', statistics.mode(dataset['last_evaluation']))\n",
    "print('Минимум для параметра last_evaluation: ', min(dataset['last_evaluation']))\n",
    "print('Максимум для параметра last_evaluation: ', max(dataset['last_evaluation']))\n",
    "print('Стандартное отклонение для параметра last_evaluation: ', statistics.pstdev(dataset['last_evaluation']))"
   ]
  },
  {
   "cell_type": "code",
   "execution_count": 8,
   "metadata": {},
   "outputs": [
    {
     "name": "stdout",
     "output_type": "stream",
     "text": [
      "Среднее для параметра number_project:  3.80305353690246\n",
      "Медиана для параметра number_project:  4\n",
      "Мода для параметра number_project:  4\n",
      "Минимум для параметра number_project:  2\n",
      "Максимум для параметра number_project:  7\n",
      "Стандартное отклонение для параметра number_project:  1.2325512654823438\n"
     ]
    }
   ],
   "source": [
    "print('Среднее для параметра number_project: ', statistics.mean(dataset['number_project']))\n",
    "print('Медиана для параметра number_project: ', statistics.median(dataset['number_project']))\n",
    "print('Мода для параметра number_project: ', statistics.mode(dataset['number_project']))\n",
    "print('Минимум для параметра number_project: ', min(dataset['number_project']))\n",
    "print('Максимум для параметра number_project: ', max(dataset['number_project']))\n",
    "print('Стандартное отклонение для параметра number_project: ', statistics.pstdev(dataset['number_project']))"
   ]
  },
  {
   "cell_type": "code",
   "execution_count": 9,
   "metadata": {},
   "outputs": [
    {
     "name": "stdout",
     "output_type": "stream",
     "text": [
      "Среднее для параметра average_montly_hours:  201.0503366891126\n",
      "Медиана для параметра average_montly_hours:  200\n",
      "Минимум для параметра average_montly_hours:  96\n",
      "Максимум для параметра average_montly_hours:  310\n",
      "Стандартное отклонение для параметра average_montly_hours:  49.94143446256218\n",
      "Моду для параметра average_montly_hours посчитать нельзя, т.к. у него много значений, повторяющихся одинаковое кличество раз\n"
     ]
    }
   ],
   "source": [
    "print('Среднее для параметра average_montly_hours: ', statistics.mean(dataset['average_montly_hours']))\n",
    "print('Медиана для параметра average_montly_hours: ', statistics.median(dataset['average_montly_hours']))\n",
    "print('Минимум для параметра average_montly_hours: ', min(dataset['average_montly_hours']))\n",
    "print('Максимум для параметра average_montly_hours: ', max(dataset['average_montly_hours']))\n",
    "print('Стандартное отклонение для параметра average_montly_hours: ', statistics.pstdev(dataset['average_montly_hours']))\n",
    "print('Моду для параметра average_montly_hours посчитать нельзя, т.к. у него много значений, повторяющихся одинаковое кличество раз')"
   ]
  },
  {
   "cell_type": "code",
   "execution_count": 10,
   "metadata": {},
   "outputs": [
    {
     "name": "stdout",
     "output_type": "stream",
     "text": [
      "Среднее для параметра time_spend_company:  3.498233215547703\n",
      "Медиана для параметра time_spend_company:  3\n",
      "Мода для параметра time_spend_company:  3\n",
      "Минимум для параметра time_spend_company:  2\n",
      "Максимум для параметра time_spend_company:  10\n",
      "Стандартное отклонение для параметра time_spend_company:  1.4600875552715114\n"
     ]
    }
   ],
   "source": [
    "print('Среднее для параметра time_spend_company: ', statistics.mean(dataset['time_spend_company']))\n",
    "print('Медиана для параметра time_spend_company: ', statistics.median(dataset['time_spend_company']))\n",
    "print('Мода для параметра time_spend_company: ', statistics.mode(dataset['time_spend_company']))\n",
    "print('Минимум для параметра time_spend_company: ', min(dataset['time_spend_company']))\n",
    "print('Максимум для параметра time_spend_company: ', max(dataset['time_spend_company']))\n",
    "print('Стандартное отклонение для параметра time_spend_company: ', statistics.pstdev(dataset['time_spend_company']))"
   ]
  },
  {
   "cell_type": "code",
   "execution_count": 11,
   "metadata": {},
   "outputs": [
    {
     "name": "stdout",
     "output_type": "stream",
     "text": [
      "Среднее для параметра Work_accident:  0.1446096406427095\n",
      "Медиана для параметра Work_accident:  0\n",
      "Мода для параметра Work_accident:  0\n",
      "Минимум для параметра Work_accident:  0\n",
      "Максимум для параметра Work_accident:  1\n",
      "Стандартное отклонение для параметра Work_accident:  0.3517068274513532\n"
     ]
    }
   ],
   "source": [
    "print('Среднее для параметра Work_accident: ', statistics.mean(dataset['Work_accident']))\n",
    "print('Медиана для параметра Work_accident: ', statistics.median(dataset['Work_accident']))\n",
    "print('Мода для параметра Work_accident: ', statistics.mode(dataset['Work_accident']))\n",
    "print('Минимум для параметра Work_accident: ', min(dataset['Work_accident']))\n",
    "print('Максимум для параметра Work_accident: ', max(dataset['Work_accident']))\n",
    "print('Стандартное отклонение для параметра Work_accident: ', statistics.pstdev(dataset['Work_accident']))"
   ]
  },
  {
   "cell_type": "code",
   "execution_count": 12,
   "metadata": {},
   "outputs": [
    {
     "name": "stdout",
     "output_type": "stream",
     "text": [
      "Среднее для параметра left:  0.2380825388359224\n",
      "Медиана для параметра left:  0\n",
      "Мода для параметра left:  0\n",
      "Минимум для параметра left:  0\n",
      "Максимум для параметра left:  1\n",
      "Стандартное отклонение для параметра left:  0.42590990072709495\n"
     ]
    }
   ],
   "source": [
    "print('Среднее для параметра left: ', statistics.mean(dataset['left']))\n",
    "print('Медиана для параметра left: ', statistics.median(dataset['left']))\n",
    "print('Мода для параметра left: ', statistics.mode(dataset['left']))\n",
    "print('Минимум для параметра left: ', min(dataset['left']))\n",
    "print('Максимум для параметра left: ', max(dataset['left']))\n",
    "print('Стандартное отклонение для параметра left: ', statistics.pstdev(dataset['left']))"
   ]
  },
  {
   "cell_type": "code",
   "execution_count": 13,
   "metadata": {},
   "outputs": [
    {
     "name": "stdout",
     "output_type": "stream",
     "text": [
      "Среднее для параметра promotion_last_5years:  0.021268084538969265\n",
      "Медиана для параметра promotion_last_5years:  0\n",
      "Мода для параметра promotion_last_5years:  0\n",
      "Минимум для параметра promotion_last_5years:  0\n",
      "Максимум для параметра promotion_last_5years:  1\n",
      "Стандартное отклонение для параметра promotion_last_5years:  0.14427665479561314\n"
     ]
    }
   ],
   "source": [
    "print('Среднее для параметра promotion_last_5years: ', statistics.mean(dataset['promotion_last_5years']))\n",
    "print('Медиана для параметра promotion_last_5years: ', statistics.median(dataset['promotion_last_5years']))\n",
    "print('Мода для параметра promotion_last_5years: ', statistics.mode(dataset['promotion_last_5years']))\n",
    "print('Минимум для параметра promotion_last_5years: ', min(dataset['promotion_last_5years']))\n",
    "print('Максимум для параметра promotion_last_5years: ', max(dataset['promotion_last_5years']))\n",
    "print('Стандартное отклонение для параметра promotion_last_5years: ', statistics.pstdev(dataset['promotion_last_5years']))"
   ]
  },
  {
   "cell_type": "code",
   "execution_count": 11,
   "metadata": {},
   "outputs": [
    {
     "name": "stdout",
     "output_type": "stream",
     "text": [
      "Основные статистики для переменных sales и salary посчитать нельзя, т.к. он имеет текстовые значения\n"
     ]
    }
   ],
   "source": [
    "print('Основные статистики для переменных sales и salary посчитать нельзя, т.к. он имеет текстовые значения')"
   ]
  },
  {
   "cell_type": "markdown",
   "metadata": {},
   "source": [
    " "
   ]
  },
  {
   "cell_type": "markdown",
   "metadata": {},
   "source": [
    "***3.Рассчитать и визуализировать корреляционную матрицу для переменных.***"
   ]
  },
  {
   "cell_type": "code",
   "execution_count": 3,
   "metadata": {},
   "outputs": [
    {
     "data": {
      "text/html": [
       "<div>\n",
       "<style scoped>\n",
       "    .dataframe tbody tr th:only-of-type {\n",
       "        vertical-align: middle;\n",
       "    }\n",
       "\n",
       "    .dataframe tbody tr th {\n",
       "        vertical-align: top;\n",
       "    }\n",
       "\n",
       "    .dataframe thead th {\n",
       "        text-align: right;\n",
       "    }\n",
       "</style>\n",
       "<table border=\"1\" class=\"dataframe\">\n",
       "  <thead>\n",
       "    <tr style=\"text-align: right;\">\n",
       "      <th></th>\n",
       "      <th>satisfaction_level</th>\n",
       "      <th>last_evaluation</th>\n",
       "      <th>number_project</th>\n",
       "      <th>average_montly_hours</th>\n",
       "      <th>time_spend_company</th>\n",
       "      <th>Work_accident</th>\n",
       "      <th>left</th>\n",
       "      <th>promotion_last_5years</th>\n",
       "    </tr>\n",
       "  </thead>\n",
       "  <tbody>\n",
       "    <tr>\n",
       "      <th>satisfaction_level</th>\n",
       "      <td>1.00</td>\n",
       "      <td>0.11</td>\n",
       "      <td>-0.14</td>\n",
       "      <td>-0.02</td>\n",
       "      <td>-0.10</td>\n",
       "      <td>0.06</td>\n",
       "      <td>-0.39</td>\n",
       "      <td>0.03</td>\n",
       "    </tr>\n",
       "    <tr>\n",
       "      <th>last_evaluation</th>\n",
       "      <td>0.11</td>\n",
       "      <td>1.00</td>\n",
       "      <td>0.35</td>\n",
       "      <td>0.34</td>\n",
       "      <td>0.13</td>\n",
       "      <td>-0.01</td>\n",
       "      <td>0.01</td>\n",
       "      <td>-0.01</td>\n",
       "    </tr>\n",
       "    <tr>\n",
       "      <th>number_project</th>\n",
       "      <td>-0.14</td>\n",
       "      <td>0.35</td>\n",
       "      <td>1.00</td>\n",
       "      <td>0.42</td>\n",
       "      <td>0.20</td>\n",
       "      <td>-0.00</td>\n",
       "      <td>0.02</td>\n",
       "      <td>-0.01</td>\n",
       "    </tr>\n",
       "    <tr>\n",
       "      <th>average_montly_hours</th>\n",
       "      <td>-0.02</td>\n",
       "      <td>0.34</td>\n",
       "      <td>0.42</td>\n",
       "      <td>1.00</td>\n",
       "      <td>0.13</td>\n",
       "      <td>-0.01</td>\n",
       "      <td>0.07</td>\n",
       "      <td>-0.00</td>\n",
       "    </tr>\n",
       "    <tr>\n",
       "      <th>time_spend_company</th>\n",
       "      <td>-0.10</td>\n",
       "      <td>0.13</td>\n",
       "      <td>0.20</td>\n",
       "      <td>0.13</td>\n",
       "      <td>1.00</td>\n",
       "      <td>0.00</td>\n",
       "      <td>0.14</td>\n",
       "      <td>0.07</td>\n",
       "    </tr>\n",
       "    <tr>\n",
       "      <th>Work_accident</th>\n",
       "      <td>0.06</td>\n",
       "      <td>-0.01</td>\n",
       "      <td>-0.00</td>\n",
       "      <td>-0.01</td>\n",
       "      <td>0.00</td>\n",
       "      <td>1.00</td>\n",
       "      <td>-0.15</td>\n",
       "      <td>0.04</td>\n",
       "    </tr>\n",
       "    <tr>\n",
       "      <th>left</th>\n",
       "      <td>-0.39</td>\n",
       "      <td>0.01</td>\n",
       "      <td>0.02</td>\n",
       "      <td>0.07</td>\n",
       "      <td>0.14</td>\n",
       "      <td>-0.15</td>\n",
       "      <td>1.00</td>\n",
       "      <td>-0.06</td>\n",
       "    </tr>\n",
       "    <tr>\n",
       "      <th>promotion_last_5years</th>\n",
       "      <td>0.03</td>\n",
       "      <td>-0.01</td>\n",
       "      <td>-0.01</td>\n",
       "      <td>-0.00</td>\n",
       "      <td>0.07</td>\n",
       "      <td>0.04</td>\n",
       "      <td>-0.06</td>\n",
       "      <td>1.00</td>\n",
       "    </tr>\n",
       "  </tbody>\n",
       "</table>\n",
       "</div>"
      ],
      "text/plain": [
       "                       satisfaction_level  last_evaluation  number_project  \\\n",
       "satisfaction_level                   1.00             0.11           -0.14   \n",
       "last_evaluation                      0.11             1.00            0.35   \n",
       "number_project                      -0.14             0.35            1.00   \n",
       "average_montly_hours                -0.02             0.34            0.42   \n",
       "time_spend_company                  -0.10             0.13            0.20   \n",
       "Work_accident                        0.06            -0.01           -0.00   \n",
       "left                                -0.39             0.01            0.02   \n",
       "promotion_last_5years                0.03            -0.01           -0.01   \n",
       "\n",
       "                       average_montly_hours  time_spend_company  \\\n",
       "satisfaction_level                    -0.02               -0.10   \n",
       "last_evaluation                        0.34                0.13   \n",
       "number_project                         0.42                0.20   \n",
       "average_montly_hours                   1.00                0.13   \n",
       "time_spend_company                     0.13                1.00   \n",
       "Work_accident                         -0.01                0.00   \n",
       "left                                   0.07                0.14   \n",
       "promotion_last_5years                 -0.00                0.07   \n",
       "\n",
       "                       Work_accident  left  promotion_last_5years  \n",
       "satisfaction_level              0.06 -0.39                   0.03  \n",
       "last_evaluation                -0.01  0.01                  -0.01  \n",
       "number_project                 -0.00  0.02                  -0.01  \n",
       "average_montly_hours           -0.01  0.07                  -0.00  \n",
       "time_spend_company              0.00  0.14                   0.07  \n",
       "Work_accident                   1.00 -0.15                   0.04  \n",
       "left                           -0.15  1.00                  -0.06  \n",
       "promotion_last_5years           0.04 -0.06                   1.00  "
      ]
     },
     "execution_count": 3,
     "metadata": {},
     "output_type": "execute_result"
    }
   ],
   "source": [
    "np.round_(dataset.corr(), decimals=2)"
   ]
  },
  {
   "cell_type": "code",
   "execution_count": 4,
   "metadata": {},
   "outputs": [
    {
     "data": {
      "text/html": [
       "<style  type=\"text/css\" >\n",
       "    #T_d20819f4_63af_11ea_9079_00e04c3609d0row0_col0 {\n",
       "            background-color:  #b40426;\n",
       "            color:  #f1f1f1;\n",
       "        }    #T_d20819f4_63af_11ea_9079_00e04c3609d0row0_col1 {\n",
       "            background-color:  #5d7ce6;\n",
       "            color:  #000000;\n",
       "        }    #T_d20819f4_63af_11ea_9079_00e04c3609d0row0_col2 {\n",
       "            background-color:  #3b4cc0;\n",
       "            color:  #f1f1f1;\n",
       "        }    #T_d20819f4_63af_11ea_9079_00e04c3609d0row0_col3 {\n",
       "            background-color:  #3b4cc0;\n",
       "            color:  #f1f1f1;\n",
       "        }    #T_d20819f4_63af_11ea_9079_00e04c3609d0row0_col4 {\n",
       "            background-color:  #3b4cc0;\n",
       "            color:  #f1f1f1;\n",
       "        }    #T_d20819f4_63af_11ea_9079_00e04c3609d0row0_col5 {\n",
       "            background-color:  #7699f6;\n",
       "            color:  #000000;\n",
       "        }    #T_d20819f4_63af_11ea_9079_00e04c3609d0row0_col6 {\n",
       "            background-color:  #3b4cc0;\n",
       "            color:  #f1f1f1;\n",
       "        }    #T_d20819f4_63af_11ea_9079_00e04c3609d0row0_col7 {\n",
       "            background-color:  #5470de;\n",
       "            color:  #000000;\n",
       "        }    #T_d20819f4_63af_11ea_9079_00e04c3609d0row1_col0 {\n",
       "            background-color:  #b1cbfc;\n",
       "            color:  #000000;\n",
       "        }    #T_d20819f4_63af_11ea_9079_00e04c3609d0row1_col1 {\n",
       "            background-color:  #b40426;\n",
       "            color:  #f1f1f1;\n",
       "        }    #T_d20819f4_63af_11ea_9079_00e04c3609d0row1_col2 {\n",
       "            background-color:  #cad8ef;\n",
       "            color:  #000000;\n",
       "        }    #T_d20819f4_63af_11ea_9079_00e04c3609d0row1_col3 {\n",
       "            background-color:  #b1cbfc;\n",
       "            color:  #000000;\n",
       "        }    #T_d20819f4_63af_11ea_9079_00e04c3609d0row1_col4 {\n",
       "            background-color:  #80a3fa;\n",
       "            color:  #000000;\n",
       "        }    #T_d20819f4_63af_11ea_9079_00e04c3609d0row1_col5 {\n",
       "            background-color:  #6282ea;\n",
       "            color:  #000000;\n",
       "        }    #T_d20819f4_63af_11ea_9079_00e04c3609d0row1_col6 {\n",
       "            background-color:  #98b9ff;\n",
       "            color:  #000000;\n",
       "        }    #T_d20819f4_63af_11ea_9079_00e04c3609d0row1_col7 {\n",
       "            background-color:  #4961d2;\n",
       "            color:  #f1f1f1;\n",
       "        }    #T_d20819f4_63af_11ea_9079_00e04c3609d0row2_col0 {\n",
       "            background-color:  #7396f5;\n",
       "            color:  #000000;\n",
       "        }    #T_d20819f4_63af_11ea_9079_00e04c3609d0row2_col1 {\n",
       "            background-color:  #b1cbfc;\n",
       "            color:  #000000;\n",
       "        }    #T_d20819f4_63af_11ea_9079_00e04c3609d0row2_col2 {\n",
       "            background-color:  #b40426;\n",
       "            color:  #f1f1f1;\n",
       "        }    #T_d20819f4_63af_11ea_9079_00e04c3609d0row2_col3 {\n",
       "            background-color:  #c9d7f0;\n",
       "            color:  #000000;\n",
       "        }    #T_d20819f4_63af_11ea_9079_00e04c3609d0row2_col4 {\n",
       "            background-color:  #94b6ff;\n",
       "            color:  #000000;\n",
       "        }    #T_d20819f4_63af_11ea_9079_00e04c3609d0row2_col5 {\n",
       "            background-color:  #6384eb;\n",
       "            color:  #000000;\n",
       "        }    #T_d20819f4_63af_11ea_9079_00e04c3609d0row2_col6 {\n",
       "            background-color:  #9dbdff;\n",
       "            color:  #000000;\n",
       "        }    #T_d20819f4_63af_11ea_9079_00e04c3609d0row2_col7 {\n",
       "            background-color:  #4a63d3;\n",
       "            color:  #f1f1f1;\n",
       "        }    #T_d20819f4_63af_11ea_9079_00e04c3609d0row3_col0 {\n",
       "            background-color:  #92b4fe;\n",
       "            color:  #000000;\n",
       "        }    #T_d20819f4_63af_11ea_9079_00e04c3609d0row3_col1 {\n",
       "            background-color:  #aec9fc;\n",
       "            color:  #000000;\n",
       "        }    #T_d20819f4_63af_11ea_9079_00e04c3609d0row3_col2 {\n",
       "            background-color:  #dadce0;\n",
       "            color:  #000000;\n",
       "        }    #T_d20819f4_63af_11ea_9079_00e04c3609d0row3_col3 {\n",
       "            background-color:  #b40426;\n",
       "            color:  #f1f1f1;\n",
       "        }    #T_d20819f4_63af_11ea_9079_00e04c3609d0row3_col4 {\n",
       "            background-color:  #7ea1fa;\n",
       "            color:  #000000;\n",
       "        }    #T_d20819f4_63af_11ea_9079_00e04c3609d0row3_col5 {\n",
       "            background-color:  #6282ea;\n",
       "            color:  #000000;\n",
       "        }    #T_d20819f4_63af_11ea_9079_00e04c3609d0row3_col6 {\n",
       "            background-color:  #a9c6fd;\n",
       "            color:  #000000;\n",
       "        }    #T_d20819f4_63af_11ea_9079_00e04c3609d0row3_col7 {\n",
       "            background-color:  #4b64d5;\n",
       "            color:  #f1f1f1;\n",
       "        }    #T_d20819f4_63af_11ea_9079_00e04c3609d0row4_col0 {\n",
       "            background-color:  #7ea1fa;\n",
       "            color:  #000000;\n",
       "        }    #T_d20819f4_63af_11ea_9079_00e04c3609d0row4_col1 {\n",
       "            background-color:  #6687ed;\n",
       "            color:  #000000;\n",
       "        }    #T_d20819f4_63af_11ea_9079_00e04c3609d0row4_col2 {\n",
       "            background-color:  #9ebeff;\n",
       "            color:  #000000;\n",
       "        }    #T_d20819f4_63af_11ea_9079_00e04c3609d0row4_col3 {\n",
       "            background-color:  #688aef;\n",
       "            color:  #000000;\n",
       "        }    #T_d20819f4_63af_11ea_9079_00e04c3609d0row4_col4 {\n",
       "            background-color:  #b40426;\n",
       "            color:  #f1f1f1;\n",
       "        }    #T_d20819f4_63af_11ea_9079_00e04c3609d0row4_col5 {\n",
       "            background-color:  #6485ec;\n",
       "            color:  #000000;\n",
       "        }    #T_d20819f4_63af_11ea_9079_00e04c3609d0row4_col6 {\n",
       "            background-color:  #bbd1f8;\n",
       "            color:  #000000;\n",
       "        }    #T_d20819f4_63af_11ea_9079_00e04c3609d0row4_col7 {\n",
       "            background-color:  #6180e9;\n",
       "            color:  #000000;\n",
       "        }    #T_d20819f4_63af_11ea_9079_00e04c3609d0row5_col0 {\n",
       "            background-color:  #a6c4fe;\n",
       "            color:  #000000;\n",
       "        }    #T_d20819f4_63af_11ea_9079_00e04c3609d0row5_col1 {\n",
       "            background-color:  #3b4cc0;\n",
       "            color:  #f1f1f1;\n",
       "        }    #T_d20819f4_63af_11ea_9079_00e04c3609d0row5_col2 {\n",
       "            background-color:  #5f7fe8;\n",
       "            color:  #000000;\n",
       "        }    #T_d20819f4_63af_11ea_9079_00e04c3609d0row5_col3 {\n",
       "            background-color:  #3d50c3;\n",
       "            color:  #f1f1f1;\n",
       "        }    #T_d20819f4_63af_11ea_9079_00e04c3609d0row5_col4 {\n",
       "            background-color:  #5673e0;\n",
       "            color:  #000000;\n",
       "        }    #T_d20819f4_63af_11ea_9079_00e04c3609d0row5_col5 {\n",
       "            background-color:  #b40426;\n",
       "            color:  #f1f1f1;\n",
       "        }    #T_d20819f4_63af_11ea_9079_00e04c3609d0row5_col6 {\n",
       "            background-color:  #7093f3;\n",
       "            color:  #000000;\n",
       "        }    #T_d20819f4_63af_11ea_9079_00e04c3609d0row5_col7 {\n",
       "            background-color:  #5875e1;\n",
       "            color:  #000000;\n",
       "        }    #T_d20819f4_63af_11ea_9079_00e04c3609d0row6_col0 {\n",
       "            background-color:  #3b4cc0;\n",
       "            color:  #f1f1f1;\n",
       "        }    #T_d20819f4_63af_11ea_9079_00e04c3609d0row6_col1 {\n",
       "            background-color:  #3e51c5;\n",
       "            color:  #f1f1f1;\n",
       "        }    #T_d20819f4_63af_11ea_9079_00e04c3609d0row6_col2 {\n",
       "            background-color:  #688aef;\n",
       "            color:  #000000;\n",
       "        }    #T_d20819f4_63af_11ea_9079_00e04c3609d0row6_col3 {\n",
       "            background-color:  #5572df;\n",
       "            color:  #000000;\n",
       "        }    #T_d20819f4_63af_11ea_9079_00e04c3609d0row6_col4 {\n",
       "            background-color:  #84a7fc;\n",
       "            color:  #000000;\n",
       "        }    #T_d20819f4_63af_11ea_9079_00e04c3609d0row6_col5 {\n",
       "            background-color:  #3b4cc0;\n",
       "            color:  #f1f1f1;\n",
       "        }    #T_d20819f4_63af_11ea_9079_00e04c3609d0row6_col6 {\n",
       "            background-color:  #b40426;\n",
       "            color:  #f1f1f1;\n",
       "        }    #T_d20819f4_63af_11ea_9079_00e04c3609d0row6_col7 {\n",
       "            background-color:  #3b4cc0;\n",
       "            color:  #f1f1f1;\n",
       "        }    #T_d20819f4_63af_11ea_9079_00e04c3609d0row7_col0 {\n",
       "            background-color:  #9ebeff;\n",
       "            color:  #000000;\n",
       "        }    #T_d20819f4_63af_11ea_9079_00e04c3609d0row7_col1 {\n",
       "            background-color:  #3b4cc0;\n",
       "            color:  #f1f1f1;\n",
       "        }    #T_d20819f4_63af_11ea_9079_00e04c3609d0row7_col2 {\n",
       "            background-color:  #5f7fe8;\n",
       "            color:  #000000;\n",
       "        }    #T_d20819f4_63af_11ea_9079_00e04c3609d0row7_col3 {\n",
       "            background-color:  #3f53c6;\n",
       "            color:  #f1f1f1;\n",
       "        }    #T_d20819f4_63af_11ea_9079_00e04c3609d0row7_col4 {\n",
       "            background-color:  #6b8df0;\n",
       "            color:  #000000;\n",
       "        }    #T_d20819f4_63af_11ea_9079_00e04c3609d0row7_col5 {\n",
       "            background-color:  #6f92f3;\n",
       "            color:  #000000;\n",
       "        }    #T_d20819f4_63af_11ea_9079_00e04c3609d0row7_col6 {\n",
       "            background-color:  #88abfd;\n",
       "            color:  #000000;\n",
       "        }    #T_d20819f4_63af_11ea_9079_00e04c3609d0row7_col7 {\n",
       "            background-color:  #b40426;\n",
       "            color:  #f1f1f1;\n",
       "        }</style><table id=\"T_d20819f4_63af_11ea_9079_00e04c3609d0\" ><thead>    <tr>        <th class=\"blank level0\" ></th>        <th class=\"col_heading level0 col0\" >satisfaction_level</th>        <th class=\"col_heading level0 col1\" >last_evaluation</th>        <th class=\"col_heading level0 col2\" >number_project</th>        <th class=\"col_heading level0 col3\" >average_montly_hours</th>        <th class=\"col_heading level0 col4\" >time_spend_company</th>        <th class=\"col_heading level0 col5\" >Work_accident</th>        <th class=\"col_heading level0 col6\" >left</th>        <th class=\"col_heading level0 col7\" >promotion_last_5years</th>    </tr></thead><tbody>\n",
       "                <tr>\n",
       "                        <th id=\"T_d20819f4_63af_11ea_9079_00e04c3609d0level0_row0\" class=\"row_heading level0 row0\" >satisfaction_level</th>\n",
       "                        <td id=\"T_d20819f4_63af_11ea_9079_00e04c3609d0row0_col0\" class=\"data row0 col0\" >1</td>\n",
       "                        <td id=\"T_d20819f4_63af_11ea_9079_00e04c3609d0row0_col1\" class=\"data row0 col1\" >0.11</td>\n",
       "                        <td id=\"T_d20819f4_63af_11ea_9079_00e04c3609d0row0_col2\" class=\"data row0 col2\" >-0.14</td>\n",
       "                        <td id=\"T_d20819f4_63af_11ea_9079_00e04c3609d0row0_col3\" class=\"data row0 col3\" >-0.02</td>\n",
       "                        <td id=\"T_d20819f4_63af_11ea_9079_00e04c3609d0row0_col4\" class=\"data row0 col4\" >-0.1</td>\n",
       "                        <td id=\"T_d20819f4_63af_11ea_9079_00e04c3609d0row0_col5\" class=\"data row0 col5\" >0.059</td>\n",
       "                        <td id=\"T_d20819f4_63af_11ea_9079_00e04c3609d0row0_col6\" class=\"data row0 col6\" >-0.39</td>\n",
       "                        <td id=\"T_d20819f4_63af_11ea_9079_00e04c3609d0row0_col7\" class=\"data row0 col7\" >0.026</td>\n",
       "            </tr>\n",
       "            <tr>\n",
       "                        <th id=\"T_d20819f4_63af_11ea_9079_00e04c3609d0level0_row1\" class=\"row_heading level0 row1\" >last_evaluation</th>\n",
       "                        <td id=\"T_d20819f4_63af_11ea_9079_00e04c3609d0row1_col0\" class=\"data row1 col0\" >0.11</td>\n",
       "                        <td id=\"T_d20819f4_63af_11ea_9079_00e04c3609d0row1_col1\" class=\"data row1 col1\" >1</td>\n",
       "                        <td id=\"T_d20819f4_63af_11ea_9079_00e04c3609d0row1_col2\" class=\"data row1 col2\" >0.35</td>\n",
       "                        <td id=\"T_d20819f4_63af_11ea_9079_00e04c3609d0row1_col3\" class=\"data row1 col3\" >0.34</td>\n",
       "                        <td id=\"T_d20819f4_63af_11ea_9079_00e04c3609d0row1_col4\" class=\"data row1 col4\" >0.13</td>\n",
       "                        <td id=\"T_d20819f4_63af_11ea_9079_00e04c3609d0row1_col5\" class=\"data row1 col5\" >-0.0071</td>\n",
       "                        <td id=\"T_d20819f4_63af_11ea_9079_00e04c3609d0row1_col6\" class=\"data row1 col6\" >0.0066</td>\n",
       "                        <td id=\"T_d20819f4_63af_11ea_9079_00e04c3609d0row1_col7\" class=\"data row1 col7\" >-0.0087</td>\n",
       "            </tr>\n",
       "            <tr>\n",
       "                        <th id=\"T_d20819f4_63af_11ea_9079_00e04c3609d0level0_row2\" class=\"row_heading level0 row2\" >number_project</th>\n",
       "                        <td id=\"T_d20819f4_63af_11ea_9079_00e04c3609d0row2_col0\" class=\"data row2 col0\" >-0.14</td>\n",
       "                        <td id=\"T_d20819f4_63af_11ea_9079_00e04c3609d0row2_col1\" class=\"data row2 col1\" >0.35</td>\n",
       "                        <td id=\"T_d20819f4_63af_11ea_9079_00e04c3609d0row2_col2\" class=\"data row2 col2\" >1</td>\n",
       "                        <td id=\"T_d20819f4_63af_11ea_9079_00e04c3609d0row2_col3\" class=\"data row2 col3\" >0.42</td>\n",
       "                        <td id=\"T_d20819f4_63af_11ea_9079_00e04c3609d0row2_col4\" class=\"data row2 col4\" >0.2</td>\n",
       "                        <td id=\"T_d20819f4_63af_11ea_9079_00e04c3609d0row2_col5\" class=\"data row2 col5\" >-0.0047</td>\n",
       "                        <td id=\"T_d20819f4_63af_11ea_9079_00e04c3609d0row2_col6\" class=\"data row2 col6\" >0.024</td>\n",
       "                        <td id=\"T_d20819f4_63af_11ea_9079_00e04c3609d0row2_col7\" class=\"data row2 col7\" >-0.0061</td>\n",
       "            </tr>\n",
       "            <tr>\n",
       "                        <th id=\"T_d20819f4_63af_11ea_9079_00e04c3609d0level0_row3\" class=\"row_heading level0 row3\" >average_montly_hours</th>\n",
       "                        <td id=\"T_d20819f4_63af_11ea_9079_00e04c3609d0row3_col0\" class=\"data row3 col0\" >-0.02</td>\n",
       "                        <td id=\"T_d20819f4_63af_11ea_9079_00e04c3609d0row3_col1\" class=\"data row3 col1\" >0.34</td>\n",
       "                        <td id=\"T_d20819f4_63af_11ea_9079_00e04c3609d0row3_col2\" class=\"data row3 col2\" >0.42</td>\n",
       "                        <td id=\"T_d20819f4_63af_11ea_9079_00e04c3609d0row3_col3\" class=\"data row3 col3\" >1</td>\n",
       "                        <td id=\"T_d20819f4_63af_11ea_9079_00e04c3609d0row3_col4\" class=\"data row3 col4\" >0.13</td>\n",
       "                        <td id=\"T_d20819f4_63af_11ea_9079_00e04c3609d0row3_col5\" class=\"data row3 col5\" >-0.01</td>\n",
       "                        <td id=\"T_d20819f4_63af_11ea_9079_00e04c3609d0row3_col6\" class=\"data row3 col6\" >0.071</td>\n",
       "                        <td id=\"T_d20819f4_63af_11ea_9079_00e04c3609d0row3_col7\" class=\"data row3 col7\" >-0.0035</td>\n",
       "            </tr>\n",
       "            <tr>\n",
       "                        <th id=\"T_d20819f4_63af_11ea_9079_00e04c3609d0level0_row4\" class=\"row_heading level0 row4\" >time_spend_company</th>\n",
       "                        <td id=\"T_d20819f4_63af_11ea_9079_00e04c3609d0row4_col0\" class=\"data row4 col0\" >-0.1</td>\n",
       "                        <td id=\"T_d20819f4_63af_11ea_9079_00e04c3609d0row4_col1\" class=\"data row4 col1\" >0.13</td>\n",
       "                        <td id=\"T_d20819f4_63af_11ea_9079_00e04c3609d0row4_col2\" class=\"data row4 col2\" >0.2</td>\n",
       "                        <td id=\"T_d20819f4_63af_11ea_9079_00e04c3609d0row4_col3\" class=\"data row4 col3\" >0.13</td>\n",
       "                        <td id=\"T_d20819f4_63af_11ea_9079_00e04c3609d0row4_col4\" class=\"data row4 col4\" >1</td>\n",
       "                        <td id=\"T_d20819f4_63af_11ea_9079_00e04c3609d0row4_col5\" class=\"data row4 col5\" >0.0021</td>\n",
       "                        <td id=\"T_d20819f4_63af_11ea_9079_00e04c3609d0row4_col6\" class=\"data row4 col6\" >0.14</td>\n",
       "                        <td id=\"T_d20819f4_63af_11ea_9079_00e04c3609d0row4_col7\" class=\"data row4 col7\" >0.067</td>\n",
       "            </tr>\n",
       "            <tr>\n",
       "                        <th id=\"T_d20819f4_63af_11ea_9079_00e04c3609d0level0_row5\" class=\"row_heading level0 row5\" >Work_accident</th>\n",
       "                        <td id=\"T_d20819f4_63af_11ea_9079_00e04c3609d0row5_col0\" class=\"data row5 col0\" >0.059</td>\n",
       "                        <td id=\"T_d20819f4_63af_11ea_9079_00e04c3609d0row5_col1\" class=\"data row5 col1\" >-0.0071</td>\n",
       "                        <td id=\"T_d20819f4_63af_11ea_9079_00e04c3609d0row5_col2\" class=\"data row5 col2\" >-0.0047</td>\n",
       "                        <td id=\"T_d20819f4_63af_11ea_9079_00e04c3609d0row5_col3\" class=\"data row5 col3\" >-0.01</td>\n",
       "                        <td id=\"T_d20819f4_63af_11ea_9079_00e04c3609d0row5_col4\" class=\"data row5 col4\" >0.0021</td>\n",
       "                        <td id=\"T_d20819f4_63af_11ea_9079_00e04c3609d0row5_col5\" class=\"data row5 col5\" >1</td>\n",
       "                        <td id=\"T_d20819f4_63af_11ea_9079_00e04c3609d0row5_col6\" class=\"data row5 col6\" >-0.15</td>\n",
       "                        <td id=\"T_d20819f4_63af_11ea_9079_00e04c3609d0row5_col7\" class=\"data row5 col7\" >0.039</td>\n",
       "            </tr>\n",
       "            <tr>\n",
       "                        <th id=\"T_d20819f4_63af_11ea_9079_00e04c3609d0level0_row6\" class=\"row_heading level0 row6\" >left</th>\n",
       "                        <td id=\"T_d20819f4_63af_11ea_9079_00e04c3609d0row6_col0\" class=\"data row6 col0\" >-0.39</td>\n",
       "                        <td id=\"T_d20819f4_63af_11ea_9079_00e04c3609d0row6_col1\" class=\"data row6 col1\" >0.0066</td>\n",
       "                        <td id=\"T_d20819f4_63af_11ea_9079_00e04c3609d0row6_col2\" class=\"data row6 col2\" >0.024</td>\n",
       "                        <td id=\"T_d20819f4_63af_11ea_9079_00e04c3609d0row6_col3\" class=\"data row6 col3\" >0.071</td>\n",
       "                        <td id=\"T_d20819f4_63af_11ea_9079_00e04c3609d0row6_col4\" class=\"data row6 col4\" >0.14</td>\n",
       "                        <td id=\"T_d20819f4_63af_11ea_9079_00e04c3609d0row6_col5\" class=\"data row6 col5\" >-0.15</td>\n",
       "                        <td id=\"T_d20819f4_63af_11ea_9079_00e04c3609d0row6_col6\" class=\"data row6 col6\" >1</td>\n",
       "                        <td id=\"T_d20819f4_63af_11ea_9079_00e04c3609d0row6_col7\" class=\"data row6 col7\" >-0.062</td>\n",
       "            </tr>\n",
       "            <tr>\n",
       "                        <th id=\"T_d20819f4_63af_11ea_9079_00e04c3609d0level0_row7\" class=\"row_heading level0 row7\" >promotion_last_5years</th>\n",
       "                        <td id=\"T_d20819f4_63af_11ea_9079_00e04c3609d0row7_col0\" class=\"data row7 col0\" >0.026</td>\n",
       "                        <td id=\"T_d20819f4_63af_11ea_9079_00e04c3609d0row7_col1\" class=\"data row7 col1\" >-0.0087</td>\n",
       "                        <td id=\"T_d20819f4_63af_11ea_9079_00e04c3609d0row7_col2\" class=\"data row7 col2\" >-0.0061</td>\n",
       "                        <td id=\"T_d20819f4_63af_11ea_9079_00e04c3609d0row7_col3\" class=\"data row7 col3\" >-0.0035</td>\n",
       "                        <td id=\"T_d20819f4_63af_11ea_9079_00e04c3609d0row7_col4\" class=\"data row7 col4\" >0.067</td>\n",
       "                        <td id=\"T_d20819f4_63af_11ea_9079_00e04c3609d0row7_col5\" class=\"data row7 col5\" >0.039</td>\n",
       "                        <td id=\"T_d20819f4_63af_11ea_9079_00e04c3609d0row7_col6\" class=\"data row7 col6\" >-0.062</td>\n",
       "                        <td id=\"T_d20819f4_63af_11ea_9079_00e04c3609d0row7_col7\" class=\"data row7 col7\" >1</td>\n",
       "            </tr>\n",
       "    </tbody></table>"
      ],
      "text/plain": [
       "<pandas.io.formats.style.Styler at 0xbb5d188>"
      ]
     },
     "execution_count": 4,
     "metadata": {},
     "output_type": "execute_result"
    }
   ],
   "source": [
    "dataset.corr().style.background_gradient(cmap='coolwarm').set_precision(2)"
   ]
  },
  {
   "cell_type": "code",
   "execution_count": 5,
   "metadata": {},
   "outputs": [
    {
     "data": {
      "text/plain": [
       "Text(0.5, 1, 'Матрица корреляции')"
      ]
     },
     "execution_count": 5,
     "metadata": {},
     "output_type": "execute_result"
    },
    {
     "data": {
      "image/png": "[encoded data removed]",
      "text/plain": [
       "<Figure size 720x720 with 2 Axes>"
      ]
     },
     "metadata": {
      "needs_background": "light"
     },
     "output_type": "display_data"
    }
   ],
   "source": [
    "f, ax = plt.subplots(figsize=(10, 10))\n",
    "corr = np.round_(dataset.corr(), decimals=2)\n",
    "sns.heatmap(corr,annot=False,cmap='RdYlGn',linewidths=0.2)\n",
    "plt.title('Матрица корреляции')"
   ]
  },
  {
   "cell_type": "markdown",
   "metadata": {},
   "source": [
    "**Выводы:** по данной матрице видно, что наибольшую прямую корреляцию имеют признаки average_montly_hours (средние часы в месяц) и number_project (номер проекта), а наибольшую обратную (отрицательную) коррелицию имею satisfaction_level (уровень удовлетворенности) и признак left (уволен), т.е. уволившиеся/уволенные сотрудники  были наименее удовлетворены работой (что логично). Наименее же коррелированы признаки time_spend_company (стаж в компании) и Work_accident (несчастные случаи на работе)."
   ]
  },
  {
   "cell_type": "markdown",
   "metadata": {},
   "source": [
    " "
   ]
  },
  {
   "cell_type": "markdown",
   "metadata": {},
   "source": [
    "***4.Визуализировать несколько взаимосвязей между переменными.***"
   ]
  },
  {
   "cell_type": "code",
   "execution_count": 15,
   "metadata": {},
   "outputs": [
    {
     "data": {
      "text/plain": [
       "<matplotlib.collections.PathCollection at 0xca3d148>"
      ]
     },
     "execution_count": 15,
     "metadata": {},
     "output_type": "execute_result"
    },
    {
     "data": {
      "image/png": "[encoded data removed]",
      "text/plain": [
       "<Figure size 432x288 with 1 Axes>"
      ]
     },
     "metadata": {
      "needs_background": "light"
     },
     "output_type": "display_data"
    }
   ],
   "source": [
    "plt.xlabel('Стаж в компании')\n",
    "plt.ylabel('Уровень удовлетворенности')\n",
    "plt.title('Точечный график зависимости уровеня удовлетворенности и стажа в компании')\n",
    "plt.grid(True)\n",
    "plt.scatter(dataset['time_spend_company'], dataset['satisfaction_level'], marker='.')"
   ]
  },
  {
   "cell_type": "markdown",
   "metadata": {},
   "source": [
    "**Выводы по графику** - чем длиннее больше стаж работы, тем выше уровень удовлетворенности. Сотрудники со стажем работы 7, 8 и 10 лет больше удовлетворены работой, чем сотрудники со стажем менее 7 лет. Так же следует отметить, что отсутвуют данные по сотрудникам со стажем работы 9 лет (крайне маловероятно, что таких сотрудников нет. Необходимо разбираться и уточнять, почему отсутсвует данная категория сотрудников)."
   ]
  },
  {
   "cell_type": "code",
   "execution_count": 16,
   "metadata": {},
   "outputs": [
    {
     "data": {
      "text/plain": [
       "<matplotlib.collections.PathCollection at 0xbe53f48>"
      ]
     },
     "execution_count": 16,
     "metadata": {},
     "output_type": "execute_result"
    },
    {
     "data": {
      "image/png": "[encoded data removed]",
      "text/plain": [
       "<Figure size 432x288 with 1 Axes>"
      ]
     },
     "metadata": {
      "needs_background": "light"
     },
     "output_type": "display_data"
    }
   ],
   "source": [
    "plt.xlabel('Последняя оценка')\n",
    "plt.ylabel('Номер проекта')\n",
    "plt.title('Точечный график зависимости последней оценки и номера проекта')\n",
    "plt.grid(True)\n",
    "plt.scatter(dataset['last_evaluation'], dataset['number_project'], marker='.')"
   ]
  },
  {
   "cell_type": "markdown",
   "metadata": {},
   "source": [
    "**Выводы по графику** - у проекта №7 выше всего параметр последних оценок, значит можно предположить, что он самый удачный и привлекательный. Среди всех проектов по оценкам выдаляется именно только 7-ой. И вероятнее всего он самый прибыльный."
   ]
  },
  {
   "cell_type": "code",
   "execution_count": 17,
   "metadata": {},
   "outputs": [
    {
     "data": {
      "text/plain": [
       "<matplotlib.collections.PathCollection at 0xbe82bc8>"
      ]
     },
     "execution_count": 17,
     "metadata": {},
     "output_type": "execute_result"
    },
    {
     "data": {
      "image/png": "[encoded data removed]",
      "text/plain": [
       "<Figure size 432x288 with 1 Axes>"
      ]
     },
     "metadata": {
      "needs_background": "light"
     },
     "output_type": "display_data"
    }
   ],
   "source": [
    "plt.xlabel('Уровень удовлетворенности')\n",
    "plt.ylabel('Средние часы в месяц')\n",
    "plt.title('Точечный график зависимости уровня удовлетворенности и средние часы в месяц ')\n",
    "plt.grid(True)\n",
    "plt.scatter(dataset['satisfaction_level'], dataset['average_montly_hours'], marker='.')"
   ]
  },
  {
   "cell_type": "markdown",
   "metadata": {},
   "source": [
    "**Выводы по графику** - наименьший уровень удовлетворенности у выборки с парамером средний часов в месяц выше 250. Значительное количество людей, которым приходится работать свыше 250 в месяц имеют самый низкий уровень удовлетворенности от 0 до 0,1. Руководству следовало бы обратить внимание на данную категорию сотрудников, и выявить причины существенных переработок сотрудников, с целью повышения их уровня удовлетворенности работой."
   ]
  },
  {
   "cell_type": "markdown",
   "metadata": {},
   "source": [
    " "
   ]
  },
  {
   "cell_type": "markdown",
   "metadata": {},
   "source": [
    "***5.С использованием t-test статистики проверить взаимосвязи между несколькими переменными.***"
   ]
  },
  {
   "cell_type": "code",
   "execution_count": 19,
   "metadata": {},
   "outputs": [
    {
     "data": {
      "text/plain": [
       "Ttest_indResult(statistic=238.58170166684755, pvalue=0.0)"
      ]
     },
     "execution_count": 19,
     "metadata": {},
     "output_type": "execute_result"
    }
   ],
   "source": [
    "stats.ttest_ind(dataset.time_spend_company, dataset.satisfaction_level)"
   ]
  },
  {
   "cell_type": "markdown",
   "metadata": {},
   "source": [
    "**Выводы:** p-value < 0.05, поэтому можно сказать что имеется статистическое различие между атрибутами time_spend_company (стаж в компании) и satisfaction_level (уровень удовлетворенности)."
   ]
  },
  {
   "cell_type": "code",
   "execution_count": 20,
   "metadata": {},
   "outputs": [
    {
     "data": {
      "text/plain": [
       "Ttest_indResult(statistic=491.5064991295991, pvalue=0.0)"
      ]
     },
     "execution_count": 20,
     "metadata": {},
     "output_type": "execute_result"
    }
   ],
   "source": [
    "stats.ttest_ind(dataset.average_montly_hours, dataset.satisfaction_level)"
   ]
  },
  {
   "cell_type": "markdown",
   "metadata": {},
   "source": [
    "**Выводы:** p-value < 0.05, поэтому можно сказать что имеется статистическое различие между атрибутами average_montly_hours (средниче часы работы в месяц) и satisfaction_level (уровень удовлетворенности)."
   ]
  },
  {
   "cell_type": "code",
   "execution_count": 21,
   "metadata": {},
   "outputs": [
    {
     "data": {
      "text/plain": [
       "Ttest_indResult(statistic=-492.6485513145602, pvalue=0.0)"
      ]
     },
     "execution_count": 21,
     "metadata": {},
     "output_type": "execute_result"
    }
   ],
   "source": [
    "stats.ttest_ind(dataset.Work_accident, dataset.average_montly_hours)"
   ]
  },
  {
   "cell_type": "markdown",
   "metadata": {},
   "source": [
    "**Выводы:** p-value < 0.05, поэтому можно сказать что имеется статистическое различие между атрибутами Work_accident (несчастные случаи на работе) и average_montly_hours (средниче часы работы в месяц)"
   ]
  },
  {
   "cell_type": "markdown",
   "metadata": {},
   "source": [
    " "
   ]
  },
  {
   "cell_type": "markdown",
   "metadata": {},
   "source": [
    "***6.Рассчитать сколько работников работает в каждом департаменте.***"
   ]
  },
  {
   "cell_type": "code",
   "execution_count": 22,
   "metadata": {},
   "outputs": [
    {
     "data": {
      "text/plain": [
       "sales          4140\n",
       "technical      2720\n",
       "support        2229\n",
       "IT             1227\n",
       "product_mng     902\n",
       "marketing       858\n",
       "RandD           787\n",
       "accounting      767\n",
       "hr              739\n",
       "management      630\n",
       "Name: sales, dtype: int64"
      ]
     },
     "execution_count": 22,
     "metadata": {},
     "output_type": "execute_result"
    }
   ],
   "source": [
    "dataset['sales'].value_counts().sort_values(ascending=False)"
   ]
  },
  {
   "cell_type": "code",
   "execution_count": 23,
   "metadata": {},
   "outputs": [
    {
     "data": {
      "image/png": "[encoded data removed]",
      "text/plain": [
       "<Figure size 432x288 with 1 Axes>"
      ]
     },
     "metadata": {
      "needs_background": "light"
     },
     "output_type": "display_data"
    }
   ],
   "source": [
    "#Визуализирую количество работников в каждом департаменте\n",
    "company = list(dataset.sales.unique())\n",
    "values = list(dataset['sales'].value_counts())\n",
    "plt.title('Количество работников в департаментах ')\n",
    "plt.xlabel('Департамент')\n",
    "plt.ylabel('Количество работников')\n",
    "plt.xticks(range(len(values)),(company), rotation=90)\n",
    "bar = plt.bar(np.arange(len(values)), values, align='center', color='b')\n",
    "for rect in bar:\n",
    "    height = rect.get_height()\n",
    "    plt.text(rect.get_x() + rect.get_width()/2.0, height, '%d' % int(height), ha='center', va='bottom')\n",
    "\n",
    "plt.tight_layout()\n",
    "plt.show()"
   ]
  },
  {
   "cell_type": "markdown",
   "metadata": {},
   "source": [
    "**Выводы:** набольшее количество сотрудников 27.6% (4140 человек) работают в отделе Продаж (sales), а наименьшее 4.2% (630 человек) в RandD."
   ]
  },
  {
   "cell_type": "markdown",
   "metadata": {},
   "source": [
    " "
   ]
  },
  {
   "cell_type": "markdown",
   "metadata": {},
   "source": [
    "***7.Показать распределение сотрудников по зарплатам.***"
   ]
  },
  {
   "cell_type": "code",
   "execution_count": 24,
   "metadata": {},
   "outputs": [
    {
     "data": {
      "text/plain": [
       "low       7316\n",
       "medium    6446\n",
       "high      1237\n",
       "Name: salary, dtype: int64"
      ]
     },
     "execution_count": 24,
     "metadata": {},
     "output_type": "execute_result"
    }
   ],
   "source": [
    "dataset['salary'].value_counts().sort_values(ascending=False)"
   ]
  },
  {
   "cell_type": "code",
   "execution_count": 25,
   "metadata": {},
   "outputs": [
    {
     "data": {
      "image/png": "[encoded data removed]",
      "text/plain": [
       "<Figure size 432x288 with 1 Axes>"
      ]
     },
     "metadata": {
      "needs_background": "light"
     },
     "output_type": "display_data"
    }
   ],
   "source": [
    "salary = list(dataset.salary.unique())\n",
    "values = list(dataset['salary'].value_counts())\n",
    "plt.title('Распределение сотрудников по зарплатам')\n",
    "plt.xlabel('Уровень зарплаты')\n",
    "plt.ylabel('Количество работников')\n",
    "plt.xticks(range(len(values)),(salary), rotation=90)\n",
    "bar = plt.bar(np.arange(len(values)), values, align='center', color='g')\n",
    "for rect in bar:\n",
    "    height = rect.get_height()\n",
    "    plt.text(rect.get_x() + rect.get_width()/2.0, height, '%d' % int(height), ha='center', va='bottom')\n",
    "\n",
    "plt.tight_layout()\n",
    "plt.show()"
   ]
  },
  {
   "cell_type": "markdown",
   "metadata": {},
   "source": [
    "**Выводы:** большинсво сотрудников (48,8%) в компании имеет низкий (low) уровень заработной платы, и лишь 8,2% сотрудников имеют высокий (high) уровень зарплаты. На мой взгляд данная компания малопривлекательна для большинства новых сотрудников."
   ]
  },
  {
   "cell_type": "markdown",
   "metadata": {},
   "source": [
    " "
   ]
  },
  {
   "cell_type": "markdown",
   "metadata": {},
   "source": [
    "***8.Показать распределение сотрудников по зарплатам совместно с департаментами.***"
   ]
  },
  {
   "cell_type": "code",
   "execution_count": 26,
   "metadata": {},
   "outputs": [
    {
     "data": {
      "text/html": [
       "<div>\n",
       "<style scoped>\n",
       "    .dataframe tbody tr th:only-of-type {\n",
       "        vertical-align: middle;\n",
       "    }\n",
       "\n",
       "    .dataframe tbody tr th {\n",
       "        vertical-align: top;\n",
       "    }\n",
       "\n",
       "    .dataframe thead th {\n",
       "        text-align: right;\n",
       "    }\n",
       "</style>\n",
       "<table border=\"1\" class=\"dataframe\">\n",
       "  <thead>\n",
       "    <tr style=\"text-align: right;\">\n",
       "      <th></th>\n",
       "      <th></th>\n",
       "      <th>values_person</th>\n",
       "    </tr>\n",
       "    <tr>\n",
       "      <th>sales</th>\n",
       "      <th>salary</th>\n",
       "      <th></th>\n",
       "    </tr>\n",
       "  </thead>\n",
       "  <tbody>\n",
       "    <tr>\n",
       "      <th rowspan=\"3\" valign=\"top\">IT</th>\n",
       "      <th>high</th>\n",
       "      <td>83</td>\n",
       "    </tr>\n",
       "    <tr>\n",
       "      <th>low</th>\n",
       "      <td>609</td>\n",
       "    </tr>\n",
       "    <tr>\n",
       "      <th>medium</th>\n",
       "      <td>535</td>\n",
       "    </tr>\n",
       "    <tr>\n",
       "      <th rowspan=\"3\" valign=\"top\">RandD</th>\n",
       "      <th>high</th>\n",
       "      <td>51</td>\n",
       "    </tr>\n",
       "    <tr>\n",
       "      <th>low</th>\n",
       "      <td>364</td>\n",
       "    </tr>\n",
       "    <tr>\n",
       "      <th>medium</th>\n",
       "      <td>372</td>\n",
       "    </tr>\n",
       "    <tr>\n",
       "      <th rowspan=\"3\" valign=\"top\">accounting</th>\n",
       "      <th>high</th>\n",
       "      <td>74</td>\n",
       "    </tr>\n",
       "    <tr>\n",
       "      <th>low</th>\n",
       "      <td>358</td>\n",
       "    </tr>\n",
       "    <tr>\n",
       "      <th>medium</th>\n",
       "      <td>335</td>\n",
       "    </tr>\n",
       "    <tr>\n",
       "      <th rowspan=\"3\" valign=\"top\">hr</th>\n",
       "      <th>high</th>\n",
       "      <td>45</td>\n",
       "    </tr>\n",
       "    <tr>\n",
       "      <th>low</th>\n",
       "      <td>335</td>\n",
       "    </tr>\n",
       "    <tr>\n",
       "      <th>medium</th>\n",
       "      <td>359</td>\n",
       "    </tr>\n",
       "    <tr>\n",
       "      <th rowspan=\"3\" valign=\"top\">management</th>\n",
       "      <th>high</th>\n",
       "      <td>225</td>\n",
       "    </tr>\n",
       "    <tr>\n",
       "      <th>low</th>\n",
       "      <td>180</td>\n",
       "    </tr>\n",
       "    <tr>\n",
       "      <th>medium</th>\n",
       "      <td>225</td>\n",
       "    </tr>\n",
       "    <tr>\n",
       "      <th rowspan=\"3\" valign=\"top\">marketing</th>\n",
       "      <th>high</th>\n",
       "      <td>80</td>\n",
       "    </tr>\n",
       "    <tr>\n",
       "      <th>low</th>\n",
       "      <td>402</td>\n",
       "    </tr>\n",
       "    <tr>\n",
       "      <th>medium</th>\n",
       "      <td>376</td>\n",
       "    </tr>\n",
       "    <tr>\n",
       "      <th rowspan=\"3\" valign=\"top\">product_mng</th>\n",
       "      <th>high</th>\n",
       "      <td>68</td>\n",
       "    </tr>\n",
       "    <tr>\n",
       "      <th>low</th>\n",
       "      <td>451</td>\n",
       "    </tr>\n",
       "    <tr>\n",
       "      <th>medium</th>\n",
       "      <td>383</td>\n",
       "    </tr>\n",
       "    <tr>\n",
       "      <th rowspan=\"3\" valign=\"top\">sales</th>\n",
       "      <th>high</th>\n",
       "      <td>269</td>\n",
       "    </tr>\n",
       "    <tr>\n",
       "      <th>low</th>\n",
       "      <td>2099</td>\n",
       "    </tr>\n",
       "    <tr>\n",
       "      <th>medium</th>\n",
       "      <td>1772</td>\n",
       "    </tr>\n",
       "    <tr>\n",
       "      <th rowspan=\"3\" valign=\"top\">support</th>\n",
       "      <th>high</th>\n",
       "      <td>141</td>\n",
       "    </tr>\n",
       "    <tr>\n",
       "      <th>low</th>\n",
       "      <td>1146</td>\n",
       "    </tr>\n",
       "    <tr>\n",
       "      <th>medium</th>\n",
       "      <td>942</td>\n",
       "    </tr>\n",
       "    <tr>\n",
       "      <th rowspan=\"3\" valign=\"top\">technical</th>\n",
       "      <th>high</th>\n",
       "      <td>201</td>\n",
       "    </tr>\n",
       "    <tr>\n",
       "      <th>low</th>\n",
       "      <td>1372</td>\n",
       "    </tr>\n",
       "    <tr>\n",
       "      <th>medium</th>\n",
       "      <td>1147</td>\n",
       "    </tr>\n",
       "  </tbody>\n",
       "</table>\n",
       "</div>"
      ],
      "text/plain": [
       "                    values_person\n",
       "sales       salary               \n",
       "IT          high               83\n",
       "            low               609\n",
       "            medium            535\n",
       "RandD       high               51\n",
       "            low               364\n",
       "            medium            372\n",
       "accounting  high               74\n",
       "            low               358\n",
       "            medium            335\n",
       "hr          high               45\n",
       "            low               335\n",
       "            medium            359\n",
       "management  high              225\n",
       "            low               180\n",
       "            medium            225\n",
       "marketing   high               80\n",
       "            low               402\n",
       "            medium            376\n",
       "product_mng high               68\n",
       "            low               451\n",
       "            medium            383\n",
       "sales       high              269\n",
       "            low              2099\n",
       "            medium           1772\n",
       "support     high              141\n",
       "            low              1146\n",
       "            medium            942\n",
       "technical   high              201\n",
       "            low              1372\n",
       "            medium           1147"
      ]
     },
     "execution_count": 26,
     "metadata": {},
     "output_type": "execute_result"
    }
   ],
   "source": [
    "dataset1 = dataset.groupby(['sales','salary']).count()\n",
    "dataset1['values_person'] = dataset1['left']\n",
    "dataset1[['values_person']]"
   ]
  },
  {
   "cell_type": "code",
   "execution_count": 158,
   "metadata": {},
   "outputs": [
    {
     "data": {
      "image/png": "[encoded data removed]",
      "text/plain": [
       "<Figure size 1080x432 with 1 Axes>"
      ]
     },
     "metadata": {
      "needs_background": "light"
     },
     "output_type": "display_data"
    }
   ],
   "source": [
    "dataset1.iloc[:,8:].plot(kind='bar', rot=90)\n",
    "plt.title('Распределение сотрудников по департаментам и зарплатам')\n",
    "plt.xlabel('Департамент и уровень зарплаты')\n",
    "plt.ylabel('Количество работников')\n",
    "plt.rcParams[\"figure.figsize\"] = (15,6)"
   ]
  },
  {
   "cell_type": "markdown",
   "metadata": {},
   "source": [
    "**Выводы:** наибольшее количество сотрудников в отеделе прожад имеют низкий и средний уровень заработной платы. Вероятнее всего в данном отдела самая большая текучка кадров, по сравнению с другими отделами. В HR отделе самое маленькое количество сотрудников с высоким уровнем заработной платы, однако в этом отделе сотрудников со средним уровнем заработной платы больше, чем сотрудников с низким уровнем заработной платы (что, вероятно, говорит о низком уровне текучки кадров отдела)."
   ]
  },
  {
   "cell_type": "markdown",
   "metadata": {},
   "source": [
    " "
   ]
  },
  {
   "cell_type": "markdown",
   "metadata": {},
   "source": [
    "***9.Сколько сотрудников покинули компанию.***"
   ]
  },
  {
   "cell_type": "code",
   "execution_count": 27,
   "metadata": {},
   "outputs": [
    {
     "name": "stdout",
     "output_type": "stream",
     "text": [
      "Количество сотрудников покинувших копманию: 3571\n"
     ]
    }
   ],
   "source": [
    "print('Количество сотрудников покинувших копманию:', dataset.left[dataset.left == 1].count())"
   ]
  },
  {
   "cell_type": "markdown",
   "metadata": {},
   "source": [
    " "
   ]
  },
  {
   "cell_type": "markdown",
   "metadata": {},
   "source": [
    "***10.Проверить несколько гипотез для данных, чтобы понять почему сотрудники покидают компанию.***"
   ]
  },
  {
   "cell_type": "markdown",
   "metadata": {},
   "source": [
    "Проверим гипотезу о том, что люди с уровнем зарплат low увольняются чаще, чем люди с остальными уровнями зарплат."
   ]
  },
  {
   "cell_type": "code",
   "execution_count": 28,
   "metadata": {},
   "outputs": [
    {
     "name": "stdout",
     "output_type": "stream",
     "text": [
      "   Variable        N      Mean        SD        SE  95% Conf.  Interval\n",
      "0      left   7316.0  0.296884  0.456916  0.005342   0.286412  0.307355\n",
      "1      left   7683.0  0.182090  0.385944  0.004403   0.173459  0.190722\n",
      "2  combined  14999.0  0.238083  0.425924  0.003478   0.231266  0.244899\n",
      "_____________________________\n",
      "            Independent t-test     results\n",
      "0  Difference (left - left) =       0.1148\n",
      "1        Degrees of freedom =   14997.0000\n",
      "2                         t =      16.6501\n",
      "3     Two side test p value =       0.0000\n",
      "4    Difference < 0 p value =       1.0000\n",
      "5    Difference > 0 p value =       0.0000\n",
      "6                 Cohen's d =       0.2720\n",
      "7                 Hedge's g =       0.2720\n",
      "8             Glass's delta =       0.2512\n",
      "9                         r =       0.1347\n"
     ]
    }
   ],
   "source": [
    "import researchpy as rp\n",
    "left_low = dataset[dataset['salary']=='low'].left\n",
    "left_other = dataset[dataset['salary']!='low'].left\n",
    "descriptives, results = rp.ttest(left_low, left_other)\n",
    "print(descriptives)\n",
    "print('_____________________________')\n",
    "print(results)"
   ]
  },
  {
   "cell_type": "code",
   "execution_count": 29,
   "metadata": {},
   "outputs": [
    {
     "data": {
      "text/plain": [
       "Ttest_indResult(statistic=16.650146684409187, pvalue=1.0799936831829457e-61)"
      ]
     },
     "execution_count": 29,
     "metadata": {},
     "output_type": "execute_result"
    }
   ],
   "source": [
    "stats.ttest_ind(left_low, left_other)"
   ]
  },
  {
   "cell_type": "markdown",
   "metadata": {},
   "source": [
    "Т.к. p value меньшеше альфа уровня 0,05 (и среднее по low (0.296884) больше, чем среднее по other (0.182090)), то мы отвергаем нулевую гипотизу об схожести выборкок, т.е. отличие людей с показателем с зарплатами уровня low значительное от людей с остальными уровнями запрлат.\n",
    "Значит, люди с зараплатами уровня low увольняются чаще, чем люди с уровнями зарплат medium и high.\n",
    "\n",
    "Таким образом делаем вывод, что люди могу уходить из-за низкого уровня зарплат."
   ]
  },
  {
   "cell_type": "markdown",
   "metadata": {},
   "source": [
    " "
   ]
  },
  {
   "cell_type": "markdown",
   "metadata": {},
   "source": [
    "Теперь проверим гипотезу о том, что люди с без повышения за последние 5 лет увольняются чаще, чем люди с повышениями."
   ]
  },
  {
   "cell_type": "code",
   "execution_count": 30,
   "metadata": {},
   "outputs": [
    {
     "name": "stdout",
     "output_type": "stream",
     "text": [
      "   Variable        N      Mean        SD        SE  95% Conf.  Interval\n",
      "0      left    319.0  0.059561  0.237044  0.013272   0.033449  0.085673\n",
      "1      left  14680.0  0.241962  0.428286  0.003535   0.235033  0.248891\n",
      "2  combined  14999.0  0.238083  0.425924  0.003478   0.231266  0.244899\n",
      "_____________________________\n",
      "            Independent t-test     results\n",
      "0  Difference (left - left) =      -0.1824\n",
      "1        Degrees of freedom =   14997.0000\n",
      "2                         t =      -7.5812\n",
      "3     Two side test p value =       0.0000\n",
      "4    Difference < 0 p value =       0.0000\n",
      "5    Difference > 0 p value =       1.0000\n",
      "6                 Cohen's d =      -0.4291\n",
      "7                 Hedge's g =      -0.4290\n",
      "8             Glass's delta =      -0.7695\n",
      "9                         r =       0.0618\n"
     ]
    }
   ],
   "source": [
    "promotion_last_5years_low = dataset[dataset['promotion_last_5years']==1].left\n",
    "promotion_last_5years_high = dataset[dataset['promotion_last_5years']==0].left\n",
    "descriptives, results = rp.ttest(promotion_last_5years_low, promotion_last_5years_high)\n",
    "print(descriptives)\n",
    "print('_____________________________')\n",
    "print(results)"
   ]
  },
  {
   "cell_type": "code",
   "execution_count": 31,
   "metadata": {},
   "outputs": [
    {
     "data": {
      "text/plain": [
       "Ttest_indResult(statistic=-7.581195349367636, pvalue=3.6240472241469694e-14)"
      ]
     },
     "execution_count": 31,
     "metadata": {},
     "output_type": "execute_result"
    }
   ],
   "source": [
    "stats.ttest_ind(promotion_last_5years_low, promotion_last_5years_high)"
   ]
  },
  {
   "cell_type": "markdown",
   "metadata": {},
   "source": [
    "Т.к. p value меньшеше альфа уровня 0,05, то мы отвергаем нулевую гипотизу об схожести выборкок, т.е. люди без повышений за последние 5 лет увольняются чаще, чем люди с повышениями. Что довольно логично!\n",
    "\n",
    "Таким образом можно сделать вывод, что люди могу уходить из-за остутсвия повышений в течении 5 лет."
   ]
  },
  {
   "cell_type": "markdown",
   "metadata": {},
   "source": [
    " "
   ]
  },
  {
   "cell_type": "markdown",
   "metadata": {},
   "source": [
    "Теперь проверим гипотезу о том, что люди работающие более 200 часов в месяц увольняются чаще, чем люди работающие меньше 200 часов в месяц."
   ]
  },
  {
   "cell_type": "code",
   "execution_count": 32,
   "metadata": {},
   "outputs": [
    {
     "name": "stdout",
     "output_type": "stream",
     "text": [
      "   Variable        N      Mean        SD        SE  95% Conf.  Interval\n",
      "0      left   7475.0  0.256187  0.436556  0.005049   0.246289  0.266085\n",
      "1      left   7524.0  0.220096  0.414339  0.004777   0.210732  0.229459\n",
      "2  combined  14999.0  0.238083  0.425924  0.003478   0.231266  0.244899\n",
      "_____________________________\n",
      "            Independent t-test     results\n",
      "0  Difference (left - left) =       0.0361\n",
      "1        Degrees of freedom =   14997.0000\n",
      "2                         t =       5.1934\n",
      "3     Two side test p value =       0.0000\n",
      "4    Difference < 0 p value =       1.0000\n",
      "5    Difference > 0 p value =       0.0000\n",
      "6                 Cohen's d =       0.0848\n",
      "7                 Hedge's g =       0.0848\n",
      "8             Glass's delta =       0.0827\n",
      "9                         r =       0.0424\n"
     ]
    }
   ],
   "source": [
    "average_montly_hours_low = dataset[dataset['average_montly_hours']>200].left\n",
    "average_montly_hours_high = dataset[dataset['average_montly_hours']<=200].left\n",
    "descriptives, results = rp.ttest(average_montly_hours_low, average_montly_hours_high)\n",
    "print(descriptives)\n",
    "print('_____________________________')\n",
    "print(results)"
   ]
  },
  {
   "cell_type": "code",
   "execution_count": 33,
   "metadata": {},
   "outputs": [
    {
     "data": {
      "text/plain": [
       "Ttest_indResult(statistic=5.193359906168156, pvalue=2.09234273556547e-07)"
      ]
     },
     "execution_count": 33,
     "metadata": {},
     "output_type": "execute_result"
    }
   ],
   "source": [
    "stats.ttest_ind(average_montly_hours_low, average_montly_hours_high)"
   ]
  },
  {
   "cell_type": "markdown",
   "metadata": {},
   "source": [
    "Т.к. p value меньшеше альфа уровня 0,05 (и среднее по людям работающим более 200 часов в месяц больше среднего по людям работающим менее 200 часов), то мы отвергаем нулевую гипотизу об схожести выборкок, т.е. люди, которые работают более 200 часов в месяц, увольняются чаще, чем люди работающие менее 200 часов в месяц.\n",
    "\n",
    "Таким образом можно сделать вывод, что люди могу уходить из-за переработок и необходимо анализировать, почему людям приходится значительно перерабатывать."
   ]
  }
 ],
 "metadata": {
  "kernelspec": {
   "display_name": "Python 3",
   "language": "python",
   "name": "python3"
  },
  "language_info": {
   "codemirror_mode": {
    "name": "ipython",
    "version": 3
   },
   "file_extension": ".py",
   "mimetype": "text/x-python",
   "name": "python",
   "nbconvert_exporter": "python",
   "pygments_lexer": "ipython3",
   "version": "3.7.4"
  }
 },
 "nbformat": 4,
 "nbformat_minor": 4
}
