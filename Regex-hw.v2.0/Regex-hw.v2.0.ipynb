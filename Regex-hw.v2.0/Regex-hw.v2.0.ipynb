{
 "cells": [
  {
   "cell_type": "markdown",
   "metadata": {},
   "source": [
    "# Домашнее задание к лекции \"Регулярные выражения\"\n",
    "Для зачета необходимо выполнить 4 задания.  \n",
    "Для зачета с отличием – все."
   ]
  },
  {
   "cell_type": "markdown",
   "metadata": {},
   "source": [
    "## Задание 1"
   ]
  },
  {
   "cell_type": "markdown",
   "metadata": {},
   "source": [
    "Напишите функцию, которая принимает на вход строку и проверяет является ли она валидным транспортным номером. Если да, то функция должна возвращать отдельно номер и регион."
   ]
  },
  {
   "cell_type": "code",
   "execution_count": 2,
   "metadata": {},
   "outputs": [
    {
     "name": "stdout",
     "output_type": "stream",
     "text": [
      "Введите автомобильные номера для проверки: К458АА154\n",
      "Номер автомобиля: К458АА Регион: 154\n"
     ]
    }
   ],
   "source": [
    "import re\n",
    "def auto_number(number):\n",
    "    regex_number = (r'[а-яА-Я]{1}[0-9]{3}[а-яА-Я]{2}[0-9]{2,}')\n",
    "    if re.findall(regex_number, number):\n",
    "        print('Номер автомобиля:', number[0:6], 'Регион:', number[6:] )\n",
    "    return\n",
    "auto_number(input('Введите автомобильные номера для проверки: '))"
   ]
  },
  {
   "cell_type": "markdown",
   "metadata": {},
   "source": [
    "## Задание 2"
   ]
  },
  {
   "cell_type": "markdown",
   "metadata": {},
   "source": [
    "Напишите функцию, которая проверяет e-mail адрес на валидность по стандарту RFC822: http://www.w3.org/Protocols/rfc822/. Для этого постарайтесь написать (в крайнем случае найти) самый полный шаблон для проверки e-mail адресов через регулярное выражение. Разберитесь и напишите примеры, какие ваш шаблон может не охватить."
   ]
  },
  {
   "cell_type": "code",
   "execution_count": 3,
   "metadata": {},
   "outputs": [
    {
     "name": "stdout",
     "output_type": "stream",
     "text": [
      "Введите email для проверки: denisov_nikita@yahoo.com\n",
      "Email denisov_nikita@yahoo.com имеет верный формат\n"
     ]
    }
   ],
   "source": [
    "import re\n",
    "def email(emails):\n",
    "    regex_email = ('(^|\\s)[-a-z0-9_.]+@([-a-z0-9]+\\.)+[a-z]{2,6}(\\s|$)')\n",
    "    if re.match(regex_email, emails):\n",
    "        print('Email {} имеет верный формат'.format(emails))\n",
    "    else:\n",
    "        print('Email {} имеет не верный формат'.format(emails)) \n",
    "email(input('Введите email для проверки: '))"
   ]
  },
  {
   "cell_type": "markdown",
   "metadata": {},
   "source": [
    "## Задание 3\n",
    "Напишите функцию, которая будет удалять все последовательные повторы слов из заданной строки."
   ]
  },
  {
   "cell_type": "code",
   "execution_count": 5,
   "metadata": {},
   "outputs": [
    {
     "name": "stdout",
     "output_type": "stream",
     "text": [
      "Введите текст: Функция удаляющая последовательные повторы Повторы слов      слов в заданной заданной заданной строки\n",
      "Функция удаляющая последовательные повторы слов в заданной строки\n"
     ]
    }
   ],
   "source": [
    "def del_replay(text):\n",
    "    replay = re.sub(r'([^\\W\\d_]+)(\\s+\\1)+', r'\\1', re.sub(r'\\W+', ' ', text), flags=re.I)\n",
    "    print(replay)\n",
    "del_replay(input('Введите текст: '))"
   ]
  },
  {
   "cell_type": "markdown",
   "metadata": {},
   "source": [
    "## Задание 4\n",
    "Напишите функцию, которая будет проверять номер сотового телефона на валидность, если он валиден, то переводить его в формат:   \n",
    "+7(xxx)-xxx-xx-xx  \n",
    "Постарайтесь предусмотреть как можно больше адекватных форматов изначального ввода номера.\n",
    "Примеры правильных и неправильных форматов:\n",
    "- +7 955 555-55-55;\n",
    "- 955555555;\n",
    "- 8(955)555-55-55;\n",
    "- +7 955 555 55 55;\n",
    "- 7(955) 555-55-55;\n",
    "- +7 955+555+55+55."
   ]
  },
  {
   "cell_type": "code",
   "execution_count": 13,
   "metadata": {},
   "outputs": [
    {
     "name": "stdout",
     "output_type": "stream",
     "text": [
      "Введите номер телефона для проверки: +7 955 555-55-55\n",
      "Ваш номер телефона: +7(955)-555-55-55\n"
     ]
    }
   ],
   "source": [
    "import re\n",
    "#phone_numbers='+7 955 555-55-55, 9555555555, 8(955)555-55-55, +7 955 555 55 55, 7(955) 555-55-55, +7 955+555+55+55'\n",
    "def phone(phone_numbers):\n",
    "    regex_numbers = r'((8|7|\\+7)[\\- ]?)?(\\(?\\d{3}\\)?[\\- ]?)?[\\d\\- ]{7,10}'\n",
    "    new_list=[]\n",
    "    if re.match(regex_numbers, phone_numbers):\n",
    "        for i in re.findall('[\\w]?', phone_numbers):\n",
    "            if i != '' and '+' and '(' and ')' and '-':\n",
    "                new_list.append(i)\n",
    "        print('Ваш номер телефона: '+'+'+'7'+'('+new_list[-10]+new_list[-9]+new_list[-8]+')'+'-'+new_list[-7]+new_list[-6]+new_list[-5]+'-'+new_list[-4]+new_list[-3]+'-'+new_list[-2]+new_list[-1])\n",
    "    else:\n",
    "        print('Номер телефона {} имеет не верный формат'.format(phone_numbers)) \n",
    "phone(input('Введите номер телефона для проверки: '))"
   ]
  },
  {
   "cell_type": "code",
   "execution_count": null,
   "metadata": {},
   "outputs": [],
   "source": []
  }
 ],
 "metadata": {
  "kernelspec": {
   "display_name": "Python 3",
   "language": "python",
   "name": "python3"
  },
  "language_info": {
   "codemirror_mode": {
    "name": "ipython",
    "version": 3
   },
   "file_extension": ".py",
   "mimetype": "text/x-python",
   "name": "python",
   "nbconvert_exporter": "python",
   "pygments_lexer": "ipython3",
   "version": "3.7.4"
  }
 },
 "nbformat": 4,
 "nbformat_minor": 2
}
