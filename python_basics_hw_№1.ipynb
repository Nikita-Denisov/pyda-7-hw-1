{
 "cells": [
  {
   "cell_type": "markdown",
   "metadata": {},
   "source": [
    "**Задание 1**. Даны 2 строки: *long_phrase* и *short_phrase*. \n",
    "Напишите код, который проверяет действительно ли длинная фраза *long_phrase* длиннее короткой *short_phrase*. И выводит *True* или *False* в зависимости от результата сравнения."
   ]
  },
  {
   "cell_type": "code",
   "execution_count": null,
   "metadata": {},
   "outputs": [],
   "source": [
    "long_phrase = 'Насколько проще было бы писать программы, если бы не заказчики'\n",
    "short_phrase = '640Кб должно хватить для любых задач. Билл Гейтс (по легенде)'"
   ]
  },
  {
   "cell_type": "code",
   "execution_count": 1,
   "metadata": {},
   "outputs": [
    {
     "name": "stdout",
     "output_type": "stream",
     "text": [
      "True\n"
     ]
    }
   ],
   "source": [
    "long_phrase = 'Насколько проще было бы писать программы, если бы не заказчики'\n",
    "short_phrase = '640Кб должно хватить для любых задач. Билл Гейтс (по легенде)'\n",
    "if len(long_phrase) > len(short_phrase):\n",
    "    print('True')\n",
    "else:\n",
    "    print('False')"
   ]
  },
  {
   "cell_type": "markdown",
   "metadata": {},
   "source": [
    "**Задание 2**. Дано значение объема файла в байтах. Напишите перевод этого значения в мегабайты в формате: \"*Объем файла равен 213.68Mb*\""
   ]
  },
  {
   "cell_type": "code",
   "execution_count": 12,
   "metadata": {},
   "outputs": [
    {
     "name": "stdout",
     "output_type": "stream",
     "text": [
      "Введите значение объёма файла в байтах: 224059719.68\n",
      "Объём файла равен 213.68 Mb\n"
     ]
    }
   ],
   "source": [
    "size_in_byte = float(input('Введите значение объёма файла в байтах: '))\n",
    "size_in_Mb = float(size_in_byte / 1048576)\n",
    "print('Объём файла равен',round(size_in_Mb,2),'Mb')"
   ]
  },
  {
   "cell_type": "markdown",
   "metadata": {},
   "source": [
    "**Задание 3**. Разработать приложение для определения знака зодиака по дате рождения. Пример:\n",
    "\n",
    "Введите месяц: март\n",
    "\n",
    "Введите число: 6\n",
    "\n",
    "Вывод:\n",
    "Рыбы"
   ]
  },
  {
   "cell_type": "code",
   "execution_count": 10,
   "metadata": {},
   "outputs": [
    {
     "name": "stdout",
     "output_type": "stream",
     "text": [
      "Введите месяц: март\n",
      "Введите число: 6\n",
      "Рыбы\n"
     ]
    }
   ],
   "source": [
    "month = str(input('Введите месяц: '))\n",
    "date = int(input('Введите число: '))\n",
    "if (month=='март' and date>=21 and date<=31) or (month=='апрель' and date>=1 and date<=19):\n",
    "         print('Овен')\n",
    "elif (month=='апрель' and date>=20 and date<=30) or (month=='май' and date>=1 and date<=20):\n",
    "    print('Телец')\n",
    "elif (month=='май' and date>=21 and date<=31) or (month=='июнь' and date>=1 and date<=21):\n",
    "    print('Близнецы')\n",
    "elif (month=='июнь' and date>=22 and date<=30) or (month=='июль' and date>=1 and date<=22):\n",
    "    print('Рак')\n",
    "elif (month=='июль' and date>=23 and date<=31) or (month=='август' and date>=1 and date<=22):\n",
    "    print('Лев')\n",
    "elif (month=='август' and date>=23 and date<=31) or (month=='сентябрь' and date>=1 and date<=22):\n",
    "    print('Дева')\n",
    "elif (month=='сентябрь' and date>=23 and date<=30) or (month=='октябрь' and date>=1 and date<=23):\n",
    "    print('Весы')\n",
    "elif (month=='октябрь' and date>=24 and date<=31) or (month=='ноябрь' and date>=1 and date<=22):\n",
    "    print('Скорпион')\n",
    "elif (month=='ноябрь' and date>=23 and date<=30) or (month=='декабрь' and date>=1 and date<=21):\n",
    "    print('Стрелец')\n",
    "elif (month=='декабрь' and date>=22 and date<=31) or (month=='январь' and date>=1 and date<=20):\n",
    "    print('Козерог')\n",
    "elif (month=='январь' and date>=21 and date<=31) or (month=='февраль' and date>=1 and date<=18):\n",
    "    print('Водолей')\n",
    "elif (month=='февраль' and date>=19 and date<=29) or (month=='март' and date>=1 and date<=20):\n",
    "    print('Рыбы')\n",
    "else:\n",
    "    print('Вы ввели некорректные данные')"
   ]
  },
  {
   "cell_type": "markdown",
   "metadata": {},
   "source": [
    "**Задание 4**. Нужно разработать приложение для финансового планирования.\n",
    "Приложение учитывает сколько уходит на ипотеку, \"на жизнь\" и сколько нужно отложить на пенсию.\n",
    "Пользователь вводит:\n",
    "- заработанную плату в месяц.\n",
    "- сколько процентов от ЗП уходит на ипотеку.\n",
    "- сколько процентов от ЗП уходит \"на жизнь\".\n",
    "- сколько раз приходит премия в год.\n",
    "\n",
    "Остальная часть заработанной платы откладывается на пенсию.\n",
    "\n",
    "Также пользователю приходит премия в размере зарплаты, от которой половина уходит на отпуск, а вторая половина откладывается.\n",
    "\n",
    "Программа должна учитывать сколько премий было в год.\n",
    "\n",
    "Нужно вывести сколько денег тратит пользователь на ипотеку и сколько он накопит за год.\n",
    "\n",
    "Пример:\n",
    "\n",
    "Введите заработанную плату в месяц: 100000\n",
    "\n",
    "Введите сколько процентов уходит на ипотеку: 30\n",
    "\n",
    "Введите сколько процентов уходит на жизнь: 50\n",
    "\n",
    "Введите количество премий за год: 2\n",
    "\n",
    "Вывод:\n",
    "На ипотеку было потрачено: 360000 рублей\n",
    "Было накоплено: 340000 рублей"
   ]
  },
  {
   "cell_type": "code",
   "execution_count": 11,
   "metadata": {},
   "outputs": [
    {
     "name": "stdout",
     "output_type": "stream",
     "text": [
      "Введите заработанную плату в месяц: 100000\n",
      "Введите сколько процентов уходит на ипотеку: 30\n",
      "Введите сколько процентов уходит на жизнь: 50\n",
      "Введите количество премий за год: 2\n",
      "На ипотеку было потрачено:  360000 рублей\n",
      "Было накоплено:  340000 рублей\n"
     ]
    }
   ],
   "source": [
    "salary = int(input('Введите заработанную плату в месяц: '))\n",
    "mortgage = int(input('Введите сколько процентов уходит на ипотеку: '))\n",
    "life = int(input('Введите сколько процентов уходит на жизнь: '))\n",
    "prize = int(input('Введите количество премий за год: '))\n",
    "capital_year = int((salary - (salary * mortgage / 100) - (salary * life / 100)) * 12 + (salary * prize / 2))\n",
    "print('На ипотеку было потрачено: ',int(salary*mortgage/100*12),'рублей')\n",
    "print('Было накоплено: ',capital_year,'рублей')"
   ]
  },
  {
   "cell_type": "code",
   "execution_count": null,
   "metadata": {},
   "outputs": [],
   "source": []
  }
 ],
 "metadata": {
  "kernelspec": {
   "display_name": "Python 3",
   "language": "python",
   "name": "python3"
  },
  "language_info": {
   "codemirror_mode": {
    "name": "ipython",
    "version": 3
   },
   "file_extension": ".py",
   "mimetype": "text/x-python",
   "name": "python",
   "nbconvert_exporter": "python",
   "pygments_lexer": "ipython3",
   "version": "3.7.4"
  }
 },
 "nbformat": 4,
 "nbformat_minor": 2
}
