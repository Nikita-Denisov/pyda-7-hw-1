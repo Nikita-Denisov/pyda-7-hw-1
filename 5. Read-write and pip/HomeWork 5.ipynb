{
 "cells": [
  {
   "cell_type": "markdown",
   "metadata": {},
   "source": [
    "# Домашнее задание\n",
    "1. Переведите содержимое файла purchase_log.txt в словарь purchases вида:\n",
    "```python\n",
    "{'1840e0b9d4': 'Продукты', ...}\n",
    "```\n",
    "\n",
    "2. Для каждого user_id в файле visit_log.csv добавьте третий столбец с категорией покупки (если покупка была).\n",
    "\n",
    "3. Запишите в файл funnel.csv визиты из файла visit_log.csv, в которых были покупки с указанием категории.\n",
    "\n",
    "Учтите условия на данные:\n",
    "- содержимое purchase_log.txt помещается в оперативную память компьютера\n",
    "- содержимое visit_log.csv - нет; используйте только построчную обработку этого файла"
   ]
  },
  {
   "cell_type": "code",
   "execution_count": 2,
   "metadata": {},
   "outputs": [],
   "source": [
    "import json\n",
    "f = open('purchase_log.txt', 'r')\n",
    "purchases = {json.loads(purchase.strip()).get(\"user_id\"): json.loads(purchase.strip()).get(\"category\") for purchase in f.readlines()}"
   ]
  },
  {
   "cell_type": "code",
   "execution_count": 3,
   "metadata": {},
   "outputs": [],
   "source": [
    "with open('visit_log.csv', 'r', encoding='utf-8') as f, open('visit_and_category_purchase.csv', 'w') as result:\n",
    "    result.write(f\"{f.readline().strip()},category\\n\")\n",
    "    for line in f.readlines():\n",
    "        visit = line.strip().split(',')\n",
    "        if purchases.get(visit[0]) != None:\n",
    "            visit.append(purchases.get(visit[0]))\n",
    "        else:\n",
    "            visit.append('')\n",
    "        result.write(f\"{','.join(visit)}\\n\")"
   ]
  },
  {
   "cell_type": "code",
   "execution_count": 4,
   "metadata": {},
   "outputs": [],
   "source": [
    "with open ('visit_and_category_purchase.csv', 'r', encoding='utf-8') as f, open ('funnel.csv', 'w') as result:\n",
    "    result.write(f.readline())\n",
    "    for line in f.readlines():\n",
    "        if line.strip().split(',')[2] != '':\n",
    "            result.write(line)"
   ]
  },
  {
   "cell_type": "code",
   "execution_count": null,
   "metadata": {},
   "outputs": [],
   "source": []
  }
 ],
 "metadata": {
  "kernelspec": {
   "display_name": "Python 3",
   "language": "python",
   "name": "python3"
  },
  "language_info": {
   "codemirror_mode": {
    "name": "ipython",
    "version": 3
   },
   "file_extension": ".py",
   "mimetype": "text/x-python",
   "name": "python",
   "nbconvert_exporter": "python",
   "pygments_lexer": "ipython3",
   "version": "3.7.4"
  }
 },
 "nbformat": 4,
 "nbformat_minor": 2
}
