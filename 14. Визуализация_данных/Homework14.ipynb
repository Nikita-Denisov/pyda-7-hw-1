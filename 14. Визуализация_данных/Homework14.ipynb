{
 "cells": [
  {
   "cell_type": "markdown",
   "metadata": {},
   "source": [
    "### Для анализа взять датафрейм с данными о зафиксированных случаях короновируса в январе 2020г (днях, местах) в странах мира, количестве погибших от него"
   ]
  },
  {
   "cell_type": "code",
   "execution_count": 81,
   "metadata": {},
   "outputs": [],
   "source": [
    "import numpy as np \n",
    "import pandas as pd \n",
    "import matplotlib.pyplot as plt\n",
    "import seaborn as sns\n",
    "sns.set_context('paper')\n",
    "import random"
   ]
  },
  {
   "cell_type": "code",
   "execution_count": 87,
   "metadata": {},
   "outputs": [
    {
     "data": {
      "text/html": [
       "<div>\n",
       "<style scoped>\n",
       "    .dataframe tbody tr th:only-of-type {\n",
       "        vertical-align: middle;\n",
       "    }\n",
       "\n",
       "    .dataframe tbody tr th {\n",
       "        vertical-align: top;\n",
       "    }\n",
       "\n",
       "    .dataframe thead th {\n",
       "        text-align: right;\n",
       "    }\n",
       "</style>\n",
       "<table border=\"1\" class=\"dataframe\">\n",
       "  <thead>\n",
       "    <tr style=\"text-align: right;\">\n",
       "      <th></th>\n",
       "      <th>Sno</th>\n",
       "      <th>Date</th>\n",
       "      <th>Province/State</th>\n",
       "      <th>Country</th>\n",
       "      <th>Last Update</th>\n",
       "      <th>Confirmed</th>\n",
       "      <th>Deaths</th>\n",
       "      <th>Recovered</th>\n",
       "    </tr>\n",
       "  </thead>\n",
       "  <tbody>\n",
       "    <tr>\n",
       "      <th>0</th>\n",
       "      <td>1</td>\n",
       "      <td>01/22/2020 12:00:00</td>\n",
       "      <td>Anhui</td>\n",
       "      <td>China</td>\n",
       "      <td>01/22/2020 12:00:00</td>\n",
       "      <td>1.0</td>\n",
       "      <td>0.0</td>\n",
       "      <td>0.0</td>\n",
       "    </tr>\n",
       "    <tr>\n",
       "      <th>1</th>\n",
       "      <td>2</td>\n",
       "      <td>01/22/2020 12:00:00</td>\n",
       "      <td>Beijing</td>\n",
       "      <td>China</td>\n",
       "      <td>01/22/2020 12:00:00</td>\n",
       "      <td>14.0</td>\n",
       "      <td>0.0</td>\n",
       "      <td>0.0</td>\n",
       "    </tr>\n",
       "    <tr>\n",
       "      <th>2</th>\n",
       "      <td>3</td>\n",
       "      <td>01/22/2020 12:00:00</td>\n",
       "      <td>Chongqing</td>\n",
       "      <td>China</td>\n",
       "      <td>01/22/2020 12:00:00</td>\n",
       "      <td>6.0</td>\n",
       "      <td>0.0</td>\n",
       "      <td>0.0</td>\n",
       "    </tr>\n",
       "    <tr>\n",
       "      <th>3</th>\n",
       "      <td>4</td>\n",
       "      <td>01/22/2020 12:00:00</td>\n",
       "      <td>Fujian</td>\n",
       "      <td>China</td>\n",
       "      <td>01/22/2020 12:00:00</td>\n",
       "      <td>1.0</td>\n",
       "      <td>0.0</td>\n",
       "      <td>0.0</td>\n",
       "    </tr>\n",
       "    <tr>\n",
       "      <th>4</th>\n",
       "      <td>5</td>\n",
       "      <td>01/22/2020 12:00:00</td>\n",
       "      <td>Gansu</td>\n",
       "      <td>China</td>\n",
       "      <td>01/22/2020 12:00:00</td>\n",
       "      <td>0.0</td>\n",
       "      <td>0.0</td>\n",
       "      <td>0.0</td>\n",
       "    </tr>\n",
       "    <tr>\n",
       "      <th>...</th>\n",
       "      <td>...</td>\n",
       "      <td>...</td>\n",
       "      <td>...</td>\n",
       "      <td>...</td>\n",
       "      <td>...</td>\n",
       "      <td>...</td>\n",
       "      <td>...</td>\n",
       "      <td>...</td>\n",
       "    </tr>\n",
       "    <tr>\n",
       "      <th>492</th>\n",
       "      <td>493</td>\n",
       "      <td>01/31/2020 19:00:00</td>\n",
       "      <td>NaN</td>\n",
       "      <td>Italy</td>\n",
       "      <td>01/31/2020 19:00:00</td>\n",
       "      <td>2.0</td>\n",
       "      <td>0.0</td>\n",
       "      <td>0.0</td>\n",
       "    </tr>\n",
       "    <tr>\n",
       "      <th>493</th>\n",
       "      <td>494</td>\n",
       "      <td>01/31/2020 19:00:00</td>\n",
       "      <td>NaN</td>\n",
       "      <td>Sweden</td>\n",
       "      <td>01/31/2020 19:00:00</td>\n",
       "      <td>1.0</td>\n",
       "      <td>0.0</td>\n",
       "      <td>0.0</td>\n",
       "    </tr>\n",
       "    <tr>\n",
       "      <th>494</th>\n",
       "      <td>495</td>\n",
       "      <td>01/31/2020 19:00:00</td>\n",
       "      <td>NaN</td>\n",
       "      <td>Russia</td>\n",
       "      <td>01/31/2020 19:00:00</td>\n",
       "      <td>2.0</td>\n",
       "      <td>0.0</td>\n",
       "      <td>0.0</td>\n",
       "    </tr>\n",
       "    <tr>\n",
       "      <th>495</th>\n",
       "      <td>496</td>\n",
       "      <td>01/31/2020 19:00:00</td>\n",
       "      <td>NaN</td>\n",
       "      <td>Spain</td>\n",
       "      <td>01/31/2020 19:00:00</td>\n",
       "      <td>1.0</td>\n",
       "      <td>0.0</td>\n",
       "      <td>0.0</td>\n",
       "    </tr>\n",
       "    <tr>\n",
       "      <th>496</th>\n",
       "      <td>497</td>\n",
       "      <td>01/31/2020 19:00:00</td>\n",
       "      <td>NaN</td>\n",
       "      <td>UK</td>\n",
       "      <td>01/31/2020 19:00:00</td>\n",
       "      <td>2.0</td>\n",
       "      <td>0.0</td>\n",
       "      <td>0.0</td>\n",
       "    </tr>\n",
       "  </tbody>\n",
       "</table>\n",
       "<p>497 rows × 8 columns</p>\n",
       "</div>"
      ],
      "text/plain": [
       "     Sno                 Date Province/State Country          Last Update  \\\n",
       "0      1  01/22/2020 12:00:00          Anhui   China  01/22/2020 12:00:00   \n",
       "1      2  01/22/2020 12:00:00        Beijing   China  01/22/2020 12:00:00   \n",
       "2      3  01/22/2020 12:00:00      Chongqing   China  01/22/2020 12:00:00   \n",
       "3      4  01/22/2020 12:00:00         Fujian   China  01/22/2020 12:00:00   \n",
       "4      5  01/22/2020 12:00:00          Gansu   China  01/22/2020 12:00:00   \n",
       "..   ...                  ...            ...     ...                  ...   \n",
       "492  493  01/31/2020 19:00:00            NaN   Italy  01/31/2020 19:00:00   \n",
       "493  494  01/31/2020 19:00:00            NaN  Sweden  01/31/2020 19:00:00   \n",
       "494  495  01/31/2020 19:00:00            NaN  Russia  01/31/2020 19:00:00   \n",
       "495  496  01/31/2020 19:00:00            NaN   Spain  01/31/2020 19:00:00   \n",
       "496  497  01/31/2020 19:00:00            NaN      UK  01/31/2020 19:00:00   \n",
       "\n",
       "     Confirmed  Deaths  Recovered  \n",
       "0          1.0     0.0        0.0  \n",
       "1         14.0     0.0        0.0  \n",
       "2          6.0     0.0        0.0  \n",
       "3          1.0     0.0        0.0  \n",
       "4          0.0     0.0        0.0  \n",
       "..         ...     ...        ...  \n",
       "492        2.0     0.0        0.0  \n",
       "493        1.0     0.0        0.0  \n",
       "494        2.0     0.0        0.0  \n",
       "495        1.0     0.0        0.0  \n",
       "496        2.0     0.0        0.0  \n",
       "\n",
       "[497 rows x 8 columns]"
      ]
     },
     "execution_count": 87,
     "metadata": {},
     "output_type": "execute_result"
    }
   ],
   "source": [
    "df = pd.read_csv('2019_nCoV_data - копия.csv')\n",
    "df"
   ]
  },
  {
   "cell_type": "code",
   "execution_count": 88,
   "metadata": {},
   "outputs": [],
   "source": [
    "df['Last Update'] = pd.to_datetime(df['Last Update'])\n",
    "df['Day'] = df['Last Update'].apply(lambda x:x.day)"
   ]
  },
  {
   "cell_type": "code",
   "execution_count": 89,
   "metadata": {},
   "outputs": [
    {
     "data": {
      "text/html": [
       "<div>\n",
       "<style scoped>\n",
       "    .dataframe tbody tr th:only-of-type {\n",
       "        vertical-align: middle;\n",
       "    }\n",
       "\n",
       "    .dataframe tbody tr th {\n",
       "        vertical-align: top;\n",
       "    }\n",
       "\n",
       "    .dataframe thead th {\n",
       "        text-align: right;\n",
       "    }\n",
       "</style>\n",
       "<table border=\"1\" class=\"dataframe\">\n",
       "  <thead>\n",
       "    <tr style=\"text-align: right;\">\n",
       "      <th></th>\n",
       "      <th>Sno</th>\n",
       "      <th>Date</th>\n",
       "      <th>Province/State</th>\n",
       "      <th>Country</th>\n",
       "      <th>Last Update</th>\n",
       "      <th>Confirmed</th>\n",
       "      <th>Deaths</th>\n",
       "      <th>Recovered</th>\n",
       "      <th>Day</th>\n",
       "    </tr>\n",
       "  </thead>\n",
       "  <tbody>\n",
       "    <tr>\n",
       "      <th>0</th>\n",
       "      <td>1</td>\n",
       "      <td>01/22/2020 12:00:00</td>\n",
       "      <td>Anhui</td>\n",
       "      <td>China</td>\n",
       "      <td>2020-01-22 12:00:00</td>\n",
       "      <td>1.0</td>\n",
       "      <td>0.0</td>\n",
       "      <td>0.0</td>\n",
       "      <td>22</td>\n",
       "    </tr>\n",
       "    <tr>\n",
       "      <th>1</th>\n",
       "      <td>2</td>\n",
       "      <td>01/22/2020 12:00:00</td>\n",
       "      <td>Beijing</td>\n",
       "      <td>China</td>\n",
       "      <td>2020-01-22 12:00:00</td>\n",
       "      <td>14.0</td>\n",
       "      <td>0.0</td>\n",
       "      <td>0.0</td>\n",
       "      <td>22</td>\n",
       "    </tr>\n",
       "    <tr>\n",
       "      <th>2</th>\n",
       "      <td>3</td>\n",
       "      <td>01/22/2020 12:00:00</td>\n",
       "      <td>Chongqing</td>\n",
       "      <td>China</td>\n",
       "      <td>2020-01-22 12:00:00</td>\n",
       "      <td>6.0</td>\n",
       "      <td>0.0</td>\n",
       "      <td>0.0</td>\n",
       "      <td>22</td>\n",
       "    </tr>\n",
       "    <tr>\n",
       "      <th>3</th>\n",
       "      <td>4</td>\n",
       "      <td>01/22/2020 12:00:00</td>\n",
       "      <td>Fujian</td>\n",
       "      <td>China</td>\n",
       "      <td>2020-01-22 12:00:00</td>\n",
       "      <td>1.0</td>\n",
       "      <td>0.0</td>\n",
       "      <td>0.0</td>\n",
       "      <td>22</td>\n",
       "    </tr>\n",
       "    <tr>\n",
       "      <th>4</th>\n",
       "      <td>5</td>\n",
       "      <td>01/22/2020 12:00:00</td>\n",
       "      <td>Gansu</td>\n",
       "      <td>China</td>\n",
       "      <td>2020-01-22 12:00:00</td>\n",
       "      <td>0.0</td>\n",
       "      <td>0.0</td>\n",
       "      <td>0.0</td>\n",
       "      <td>22</td>\n",
       "    </tr>\n",
       "    <tr>\n",
       "      <th>...</th>\n",
       "      <td>...</td>\n",
       "      <td>...</td>\n",
       "      <td>...</td>\n",
       "      <td>...</td>\n",
       "      <td>...</td>\n",
       "      <td>...</td>\n",
       "      <td>...</td>\n",
       "      <td>...</td>\n",
       "      <td>...</td>\n",
       "    </tr>\n",
       "    <tr>\n",
       "      <th>492</th>\n",
       "      <td>493</td>\n",
       "      <td>01/31/2020 19:00:00</td>\n",
       "      <td>NaN</td>\n",
       "      <td>Italy</td>\n",
       "      <td>2020-01-31 19:00:00</td>\n",
       "      <td>2.0</td>\n",
       "      <td>0.0</td>\n",
       "      <td>0.0</td>\n",
       "      <td>31</td>\n",
       "    </tr>\n",
       "    <tr>\n",
       "      <th>493</th>\n",
       "      <td>494</td>\n",
       "      <td>01/31/2020 19:00:00</td>\n",
       "      <td>NaN</td>\n",
       "      <td>Sweden</td>\n",
       "      <td>2020-01-31 19:00:00</td>\n",
       "      <td>1.0</td>\n",
       "      <td>0.0</td>\n",
       "      <td>0.0</td>\n",
       "      <td>31</td>\n",
       "    </tr>\n",
       "    <tr>\n",
       "      <th>494</th>\n",
       "      <td>495</td>\n",
       "      <td>01/31/2020 19:00:00</td>\n",
       "      <td>NaN</td>\n",
       "      <td>Russia</td>\n",
       "      <td>2020-01-31 19:00:00</td>\n",
       "      <td>2.0</td>\n",
       "      <td>0.0</td>\n",
       "      <td>0.0</td>\n",
       "      <td>31</td>\n",
       "    </tr>\n",
       "    <tr>\n",
       "      <th>495</th>\n",
       "      <td>496</td>\n",
       "      <td>01/31/2020 19:00:00</td>\n",
       "      <td>NaN</td>\n",
       "      <td>Spain</td>\n",
       "      <td>2020-01-31 19:00:00</td>\n",
       "      <td>1.0</td>\n",
       "      <td>0.0</td>\n",
       "      <td>0.0</td>\n",
       "      <td>31</td>\n",
       "    </tr>\n",
       "    <tr>\n",
       "      <th>496</th>\n",
       "      <td>497</td>\n",
       "      <td>01/31/2020 19:00:00</td>\n",
       "      <td>NaN</td>\n",
       "      <td>UK</td>\n",
       "      <td>2020-01-31 19:00:00</td>\n",
       "      <td>2.0</td>\n",
       "      <td>0.0</td>\n",
       "      <td>0.0</td>\n",
       "      <td>31</td>\n",
       "    </tr>\n",
       "  </tbody>\n",
       "</table>\n",
       "<p>497 rows × 9 columns</p>\n",
       "</div>"
      ],
      "text/plain": [
       "     Sno                 Date Province/State Country         Last Update  \\\n",
       "0      1  01/22/2020 12:00:00          Anhui   China 2020-01-22 12:00:00   \n",
       "1      2  01/22/2020 12:00:00        Beijing   China 2020-01-22 12:00:00   \n",
       "2      3  01/22/2020 12:00:00      Chongqing   China 2020-01-22 12:00:00   \n",
       "3      4  01/22/2020 12:00:00         Fujian   China 2020-01-22 12:00:00   \n",
       "4      5  01/22/2020 12:00:00          Gansu   China 2020-01-22 12:00:00   \n",
       "..   ...                  ...            ...     ...                 ...   \n",
       "492  493  01/31/2020 19:00:00            NaN   Italy 2020-01-31 19:00:00   \n",
       "493  494  01/31/2020 19:00:00            NaN  Sweden 2020-01-31 19:00:00   \n",
       "494  495  01/31/2020 19:00:00            NaN  Russia 2020-01-31 19:00:00   \n",
       "495  496  01/31/2020 19:00:00            NaN   Spain 2020-01-31 19:00:00   \n",
       "496  497  01/31/2020 19:00:00            NaN      UK 2020-01-31 19:00:00   \n",
       "\n",
       "     Confirmed  Deaths  Recovered  Day  \n",
       "0          1.0     0.0        0.0   22  \n",
       "1         14.0     0.0        0.0   22  \n",
       "2          6.0     0.0        0.0   22  \n",
       "3          1.0     0.0        0.0   22  \n",
       "4          0.0     0.0        0.0   22  \n",
       "..         ...     ...        ...  ...  \n",
       "492        2.0     0.0        0.0   31  \n",
       "493        1.0     0.0        0.0   31  \n",
       "494        2.0     0.0        0.0   31  \n",
       "495        1.0     0.0        0.0   31  \n",
       "496        2.0     0.0        0.0   31  \n",
       "\n",
       "[497 rows x 9 columns]"
      ]
     },
     "execution_count": 89,
     "metadata": {},
     "output_type": "execute_result"
    }
   ],
   "source": [
    "df"
   ]
  },
  {
   "cell_type": "code",
   "execution_count": 90,
   "metadata": {},
   "outputs": [],
   "source": [
    "df = df[df['Confirmed'] != 0] # оставим в датафрейме провинции и регионы, в которых есть минимум 1 зарегистрированный случай заболевания короновирусом"
   ]
  },
  {
   "cell_type": "code",
   "execution_count": 91,
   "metadata": {},
   "outputs": [
    {
     "data": {
      "image/png": "[encoded data removed]",
      "text/plain": [
       "<Figure size 1296x576 with 1 Axes>"
      ]
     },
     "metadata": {
      "needs_background": "light"
     },
     "output_type": "display_data"
    }
   ],
   "source": [
    "plt.figure(figsize=(18,8))\n",
    "sns.barplot(x='Country',y='Confirmed',data=df)\n",
    "plt.xticks(rotation=90)\n",
    "plt.tight_layout()"
   ]
  },
  {
   "cell_type": "markdown",
   "metadata": {},
   "source": [
    "На данном графике участвуют переменные по количеству подтвержденных случаев заболевания короновирусом (Confirmed) и страны мира (Country)\n",
    "\n",
    "Цель: показать на графике страну/страны, с наибольшим количеством подтвержденных случаев заболевания короновирусом.\n",
    "\n",
    "Как мы видим, короновирус больше всего затронул Китай (эпидемия), а так же  имеются относительно значимое количество случаев в соседних с Китаем странах, что говорит о распространении короновируса."
   ]
  },
  {
   "cell_type": "code",
   "execution_count": 92,
   "metadata": {},
   "outputs": [
    {
     "data": {
      "application/vnd.plotly.v1+json": {
       "config": {
        "plotlyServerURL": "https://plot.ly"
       },
       "data": [
        {
         "alignmentgroup": "True",
         "hoverlabel": {
          "namelength": 0
         },
         "hovertemplate": "Province/State=%{x}<br>Confirmed=%{y}",
         "legendgroup": "",
         "marker": {
          "color": "#636efa"
         },
         "name": "",
         "offsetgroup": "",
         "orientation": "v",
         "showlegend": false,
         "textposition": "auto",
         "type": "bar",
         "x": [
          "Anhui",
          "Beijing",
          "Chongqing",
          "Fujian",
          "Guangdong",
          "Guangxi",
          "Guizhou",
          "Hainan",
          "Hebei",
          "Henan",
          "Hubei",
          "Hunan",
          "Jiangsu",
          "Jiangxi",
          "Liaoning",
          "Macau",
          "Ningxia",
          "Shandong",
          "Shanghai",
          "Shanxi",
          "Sichuan",
          "Taiwan",
          "Tianjin",
          "Washington",
          "Yunnan",
          "Zhejiang",
          null,
          null,
          null,
          "Anhui",
          "Beijing",
          "Chongqing",
          "Fujian",
          "Gansu",
          "Guangdong",
          "Guangxi",
          "Guizhou",
          "Hainan",
          "Hebei",
          "Heilongjiang",
          "Henan",
          "Hong Kong",
          "Hubei",
          "Hunan",
          "Jiangsu",
          "Jiangxi",
          "Jilin",
          "Liaoning",
          "Macau",
          "Ningxia",
          "Shaanxi",
          "Shandong",
          "Shanghai",
          "Shanxi",
          "Sichuan",
          "Taiwan",
          "Tianjin",
          "Washington",
          "Xinjiang",
          "Yunnan",
          "Zhejiang",
          null,
          null,
          null,
          null,
          null,
          "Hubei",
          "Guangdong",
          "Zhejiang",
          "Beijing",
          "Chongqing",
          "Hunan",
          "Guangxi",
          "Shanghai",
          "Jiangxi",
          "Sichuan",
          "Shandong",
          "Anhui",
          "Fujian",
          "Henan",
          "Jiangsu",
          "Hainan",
          "Tianjin",
          "Yunnan",
          "Shaanxi",
          "Heilongjiang",
          "Liaoning",
          "Guizhou",
          "Jilin",
          "Taiwan",
          "Ningxia",
          "Hong Kong",
          "Macau",
          "Hebei",
          "Gansu",
          "Xinjiang",
          "Shanxi",
          "Inner Mongolia",
          "Washington",
          "Chicago",
          null,
          null,
          null,
          null,
          null,
          null,
          "Hubei",
          "Zhejiang",
          "Guangdong",
          "Henan",
          "Chongqing",
          "Hunan",
          "Anhui",
          "Beijing",
          "Sichuan",
          "Shanghai",
          "Shandong",
          "Jiangxi",
          "Guangxi",
          "Jiangsu",
          "Hainan",
          "Liaoning",
          "Fujian",
          "Heilongjiang",
          "Shaanxi",
          "Tianjin",
          "Hebei",
          "Yunnan",
          "Shanxi",
          "Inner Mongolia",
          "Gansu",
          "Guizhou",
          "Hong Kong",
          "Ningxia",
          "Jilin",
          "Xinjiang",
          "Taiwan",
          "Macau",
          "Qinghai",
          "Washington",
          "Illinois",
          null,
          null,
          null,
          null,
          null,
          null,
          null,
          null,
          null,
          "Hubei",
          "Guangdong",
          "Zhejiang",
          "Henan",
          "Chongqing",
          "Hunan",
          "Anhui",
          "Sichuan",
          "Beijing",
          "Shandong",
          "Shanghai",
          "Jiangxi",
          "Jiangsu",
          "Guangxi",
          "Fujian",
          "Liaoning",
          "Hainan",
          "Shaanxi",
          "Heilongjiang",
          "Yunnan",
          "Hebei",
          "Tianjin",
          "Gansu",
          "Shanxi",
          "Inner Mongolia",
          "Hong Kong",
          "Guizhou",
          "Jilin",
          "Macau",
          "Xinjiang",
          "Ningxia",
          "Taiwan",
          "Qinghai",
          "Washington",
          "Illinois",
          "California",
          "Arizona",
          null,
          null,
          null,
          null,
          null,
          null,
          null,
          null,
          null,
          "Ontario",
          "Hubei",
          "Zhejiang",
          "Henan",
          "Guangdong",
          "Chongqing",
          "Anhui",
          "Hunan",
          "Sichuan",
          "Shandong",
          "Beijing",
          "Jiangxi",
          "Jiangsu",
          "Shanghai",
          "Fujian",
          "Guangxi",
          "Shaanxi",
          "Hainan",
          "Hebei",
          "Heilongjiang",
          "Liaoning",
          "Yunnan",
          "Tianjin",
          "Shanxi",
          "Gansu",
          "Inner Mongolia",
          "Guizhou",
          "Hong Kong",
          "Ningxia",
          "Jilin",
          "Macau",
          "Qinghai",
          "Taiwan",
          "Xinjiang",
          "Washington",
          "Illinois",
          "California",
          "Arizona",
          null,
          null,
          null,
          null,
          null,
          null,
          null,
          null,
          "Ontario",
          null,
          null,
          "New South Wales",
          "Victoria",
          "Bavaria",
          "Hubei",
          "Zhejiang",
          "Guangdong",
          "Hunan",
          "Henan",
          "Anhui",
          "Chongqing",
          "Shandong",
          "Jiangxi",
          "Sichuan",
          "Jiangsu",
          "Beijing",
          "Fujian",
          "Shanghai",
          "Guangxi",
          "Shaanxi",
          "Hebei",
          "Yunnan",
          "Hainan",
          "Heilongjiang",
          "Liaoning",
          "Shanxi",
          "Tianjin",
          "Gansu",
          "Inner Mongolia",
          "Xinjiang",
          "Ningxia",
          "Guizhou",
          "Jilin",
          "Hong Kong",
          "Taiwan",
          "Macau",
          "Qinghai",
          "Washington",
          "Illinois",
          "California",
          "Arizona",
          null,
          null,
          null,
          null,
          null,
          null,
          null,
          null,
          "Ontario",
          "British Columbia",
          null,
          null,
          "New South Wales",
          "Victoria",
          "Bavaria",
          "Hubei",
          "Zhejiang",
          "Guangdong",
          "Henan",
          "Hunan",
          "Anhui",
          "Chongqing",
          "Jiangxi",
          "Shandong",
          "Sichuan",
          "Jiangsu",
          "Beijing",
          "Shanghai",
          "Fujian",
          "Guangxi",
          "Hebei",
          "Shaanxi",
          "Yunnan",
          "Hainan",
          "Heilongjiang",
          "Liaoning",
          "Shanxi",
          "Tianjin",
          "Gansu",
          "Inner Mongolia",
          "Jilin",
          "Xinjiang",
          "Guizhou",
          "Ningxia",
          "Hong Kong",
          "Taiwan",
          "Macau",
          "Qinghai",
          "Tibet",
          "Washington",
          "Illinois",
          "California",
          "Arizona",
          null,
          null,
          null,
          null,
          null,
          null,
          null,
          null,
          "Ontario",
          "British Columbia",
          null,
          null,
          "New South Wales",
          "Victoria",
          "Queensland",
          "Bavaria",
          null,
          null,
          "Hubei",
          "Zhejiang",
          "Guangdong",
          "Henan",
          "Hunan",
          "Jiangxi",
          "Anhui",
          "Chongqing",
          "Shandong",
          "Sichuan",
          "Jiangsu",
          "Shanghai",
          "Beijing",
          "Fujian",
          "Guangxi",
          "Hebei",
          "Yunnan",
          "Shaanxi",
          "Heilongjiang",
          "Hainan",
          "Liaoning",
          "Shanxi",
          "Tianjin",
          "Gansu",
          "Ningxia",
          "Inner Mongolia",
          "Xinjiang",
          "Guizhou",
          "Jilin",
          "Hong Kong",
          "Taiwan",
          "Qinghai",
          "Macau",
          "Tibet",
          "Washington",
          "Illinois",
          "California",
          "Arizona",
          null,
          null,
          null,
          null,
          null,
          null,
          null,
          null,
          "Ontario",
          "British Columbia",
          null,
          null,
          "New South Wales",
          "Victoria",
          "Queensland",
          "Bavaria",
          null,
          null,
          null,
          null,
          null,
          "Hubei",
          "Zhejiang",
          "Guangdong",
          "Henan",
          "Hunan",
          "Jiangxi",
          "Chongqing",
          "Anhui",
          "Shandong",
          "Sichuan",
          "Jiangsu",
          "Shanghai",
          "Beijing",
          "Fujian",
          "Hebei",
          "Guangxi",
          "Shaanxi",
          "Yunnan",
          "Liaoning",
          "Heilongjiang",
          "Hainan",
          "Shanxi",
          "Gansu",
          "Tianjin",
          "Guizhou",
          "Ningxia",
          "Inner Mongolia",
          "Xinjiang",
          "Jilin",
          "Hong Kong",
          "Taiwan",
          "Qinghai",
          "Macau",
          "Tibet",
          "Washington",
          "Illinois",
          "California",
          "Arizona",
          null,
          null,
          null,
          null,
          null,
          null,
          null,
          null,
          "Ontario",
          "British Columbia",
          null,
          null,
          "New South Wales",
          "Victoria",
          "Queensland",
          "Bavaria",
          null,
          null,
          null,
          null,
          null,
          null,
          null,
          null,
          null
         ],
         "xaxis": "x",
         "y": [
          1,
          14,
          6,
          1,
          26,
          2,
          1,
          4,
          1,
          5,
          444,
          4,
          1,
          2,
          2,
          1,
          1,
          2,
          9,
          1,
          5,
          1,
          4,
          1,
          1,
          10,
          2,
          2,
          1,
          9,
          22,
          9,
          5,
          2,
          32,
          5,
          3,
          5,
          1,
          2,
          5,
          2,
          444,
          9,
          5,
          7,
          1,
          3,
          2,
          1,
          3,
          6,
          16,
          1,
          8,
          1,
          4,
          1,
          2,
          2,
          27,
          1,
          3,
          1,
          1,
          2,
          549,
          53,
          43,
          36,
          27,
          24,
          23,
          20,
          18,
          15,
          15,
          15,
          10,
          9,
          9,
          8,
          8,
          5,
          5,
          4,
          4,
          3,
          3,
          3,
          2,
          2,
          2,
          2,
          2,
          2,
          1,
          1,
          1,
          1,
          2,
          5,
          2,
          3,
          2,
          2,
          1052,
          104,
          98,
          83,
          75,
          69,
          60,
          51,
          44,
          40,
          39,
          36,
          33,
          31,
          19,
          19,
          18,
          15,
          15,
          13,
          13,
          11,
          9,
          7,
          7,
          5,
          5,
          4,
          4,
          4,
          3,
          2,
          1,
          1,
          1,
          2,
          7,
          3,
          3,
          2,
          3,
          4,
          1,
          3,
          1423,
          146,
          128,
          128,
          110,
          100,
          70,
          69,
          68,
          63,
          53,
          48,
          47,
          46,
          35,
          23,
          22,
          22,
          21,
          19,
          18,
          14,
          14,
          13,
          11,
          8,
          7,
          6,
          6,
          5,
          4,
          4,
          4,
          1,
          1,
          2,
          1,
          4,
          8,
          3,
          4,
          2,
          3,
          4,
          1,
          4,
          1,
          2714,
          173,
          168,
          151,
          132,
          106,
          100,
          90,
          87,
          80,
          72,
          70,
          66,
          59,
          51,
          35,
          33,
          33,
          30,
          27,
          26,
          23,
          20,
          19,
          11,
          9,
          8,
          7,
          6,
          6,
          6,
          5,
          5,
          1,
          1,
          2,
          1,
          4,
          8,
          4,
          5,
          2,
          3,
          1,
          4,
          1,
          1,
          1,
          4,
          1,
          1,
          3554,
          296,
          241,
          221,
          206,
          152,
          147,
          121,
          109,
          108,
          99,
          91,
          82,
          80,
          58,
          56,
          48,
          44,
          43,
          37,
          36,
          27,
          25,
          24,
          16,
          13,
          12,
          9,
          9,
          8,
          8,
          7,
          6,
          1,
          1,
          2,
          1,
          7,
          14,
          4,
          7,
          2,
          4,
          1,
          7,
          1,
          1,
          1,
          1,
          4,
          1,
          4,
          4586,
          428,
          311,
          278,
          277,
          200,
          165,
          162,
          145,
          142,
          129,
          111,
          101,
          101,
          78,
          65,
          56,
          55,
          43,
          43,
          39,
          35,
          27,
          26,
          16,
          14,
          14,
          12,
          12,
          10,
          8,
          7,
          6,
          1,
          1,
          1,
          2,
          1,
          11,
          14,
          4,
          10,
          2,
          5,
          1,
          7,
          2,
          1,
          1,
          1,
          4,
          2,
          1,
          4,
          1,
          4,
          5806,
          537,
          393,
          352,
          332,
          240,
          237,
          206,
          178,
          177,
          168,
          128,
          121,
          101,
          87,
          82,
          76,
          87,
          59,
          50,
          45,
          39,
          32,
          29,
          21,
          20,
          17,
          15,
          14,
          12,
          9,
          8,
          7,
          1,
          1,
          2,
          2,
          1,
          11,
          14,
          6,
          10,
          2,
          5,
          1,
          8,
          2,
          1,
          1,
          1,
          4,
          2,
          3,
          4,
          1,
          4,
          1,
          1,
          2,
          7153,
          537,
          436,
          352,
          332,
          240,
          238,
          237,
          184,
          177,
          168,
          153,
          139,
          120,
          96,
          88,
          87,
          83,
          60,
          59,
          58,
          47,
          35,
          32,
          29,
          21,
          20,
          17,
          14,
          13,
          10,
          8,
          7,
          1,
          1,
          2,
          3,
          1,
          17,
          19,
          11,
          16,
          2,
          6,
          1,
          8,
          2,
          1,
          1,
          1,
          4,
          2,
          3,
          7,
          1,
          4,
          1,
          1,
          2,
          1,
          2,
          1,
          2
         ],
         "yaxis": "y"
        }
       ],
       "layout": {
        "barmode": "relative",
        "legend": {
         "tracegroupgap": 0
        },
        "margin": {
         "t": 60
        },
        "template": {
         "data": {
          "bar": [
           {
            "error_x": {
             "color": "#2a3f5f"
            },
            "error_y": {
             "color": "#2a3f5f"
            },
            "marker": {
             "line": {
              "color": "#E5ECF6",
              "width": 0.5
             }
            },
            "type": "bar"
           }
          ],
          "barpolar": [
           {
            "marker": {
             "line": {
              "color": "#E5ECF6",
              "width": 0.5
             }
            },
            "type": "barpolar"
           }
          ],
          "carpet": [
           {
            "aaxis": {
             "endlinecolor": "#2a3f5f",
             "gridcolor": "white",
             "linecolor": "white",
             "minorgridcolor": "white",
             "startlinecolor": "#2a3f5f"
            },
            "baxis": {
             "endlinecolor": "#2a3f5f",
             "gridcolor": "white",
             "linecolor": "white",
             "minorgridcolor": "white",
             "startlinecolor": "#2a3f5f"
            },
            "type": "carpet"
           }
          ],
          "choropleth": [
           {
            "colorbar": {
             "outlinewidth": 0,
             "ticks": ""
            },
            "type": "choropleth"
           }
          ],
          "contour": [
           {
            "colorbar": {
             "outlinewidth": 0,
             "ticks": ""
            },
            "colorscale": [
             [
              0,
              "#0d0887"
             ],
             [
              0.1111111111111111,
              "#46039f"
             ],
             [
              0.2222222222222222,
              "#7201a8"
             ],
             [
              0.3333333333333333,
              "#9c179e"
             ],
             [
              0.4444444444444444,
              "#bd3786"
             ],
             [
              0.5555555555555556,
              "#d8576b"
             ],
             [
              0.6666666666666666,
              "#ed7953"
             ],
             [
              0.7777777777777778,
              "#fb9f3a"
             ],
             [
              0.8888888888888888,
              "#fdca26"
             ],
             [
              1,
              "#f0f921"
             ]
            ],
            "type": "contour"
           }
          ],
          "contourcarpet": [
           {
            "colorbar": {
             "outlinewidth": 0,
             "ticks": ""
            },
            "type": "contourcarpet"
           }
          ],
          "heatmap": [
           {
            "colorbar": {
             "outlinewidth": 0,
             "ticks": ""
            },
            "colorscale": [
             [
              0,
              "#0d0887"
             ],
             [
              0.1111111111111111,
              "#46039f"
             ],
             [
              0.2222222222222222,
              "#7201a8"
             ],
             [
              0.3333333333333333,
              "#9c179e"
             ],
             [
              0.4444444444444444,
              "#bd3786"
             ],
             [
              0.5555555555555556,
              "#d8576b"
             ],
             [
              0.6666666666666666,
              "#ed7953"
             ],
             [
              0.7777777777777778,
              "#fb9f3a"
             ],
             [
              0.8888888888888888,
              "#fdca26"
             ],
             [
              1,
              "#f0f921"
             ]
            ],
            "type": "heatmap"
           }
          ],
          "heatmapgl": [
           {
            "colorbar": {
             "outlinewidth": 0,
             "ticks": ""
            },
            "colorscale": [
             [
              0,
              "#0d0887"
             ],
             [
              0.1111111111111111,
              "#46039f"
             ],
             [
              0.2222222222222222,
              "#7201a8"
             ],
             [
              0.3333333333333333,
              "#9c179e"
             ],
             [
              0.4444444444444444,
              "#bd3786"
             ],
             [
              0.5555555555555556,
              "#d8576b"
             ],
             [
              0.6666666666666666,
              "#ed7953"
             ],
             [
              0.7777777777777778,
              "#fb9f3a"
             ],
             [
              0.8888888888888888,
              "#fdca26"
             ],
             [
              1,
              "#f0f921"
             ]
            ],
            "type": "heatmapgl"
           }
          ],
          "histogram": [
           {
            "marker": {
             "colorbar": {
              "outlinewidth": 0,
              "ticks": ""
             }
            },
            "type": "histogram"
           }
          ],
          "histogram2d": [
           {
            "colorbar": {
             "outlinewidth": 0,
             "ticks": ""
            },
            "colorscale": [
             [
              0,
              "#0d0887"
             ],
             [
              0.1111111111111111,
              "#46039f"
             ],
             [
              0.2222222222222222,
              "#7201a8"
             ],
             [
              0.3333333333333333,
              "#9c179e"
             ],
             [
              0.4444444444444444,
              "#bd3786"
             ],
             [
              0.5555555555555556,
              "#d8576b"
             ],
             [
              0.6666666666666666,
              "#ed7953"
             ],
             [
              0.7777777777777778,
              "#fb9f3a"
             ],
             [
              0.8888888888888888,
              "#fdca26"
             ],
             [
              1,
              "#f0f921"
             ]
            ],
            "type": "histogram2d"
           }
          ],
          "histogram2dcontour": [
           {
            "colorbar": {
             "outlinewidth": 0,
             "ticks": ""
            },
            "colorscale": [
             [
              0,
              "#0d0887"
             ],
             [
              0.1111111111111111,
              "#46039f"
             ],
             [
              0.2222222222222222,
              "#7201a8"
             ],
             [
              0.3333333333333333,
              "#9c179e"
             ],
             [
              0.4444444444444444,
              "#bd3786"
             ],
             [
              0.5555555555555556,
              "#d8576b"
             ],
             [
              0.6666666666666666,
              "#ed7953"
             ],
             [
              0.7777777777777778,
              "#fb9f3a"
             ],
             [
              0.8888888888888888,
              "#fdca26"
             ],
             [
              1,
              "#f0f921"
             ]
            ],
            "type": "histogram2dcontour"
           }
          ],
          "mesh3d": [
           {
            "colorbar": {
             "outlinewidth": 0,
             "ticks": ""
            },
            "type": "mesh3d"
           }
          ],
          "parcoords": [
           {
            "line": {
             "colorbar": {
              "outlinewidth": 0,
              "ticks": ""
             }
            },
            "type": "parcoords"
           }
          ],
          "pie": [
           {
            "automargin": true,
            "type": "pie"
           }
          ],
          "scatter": [
           {
            "marker": {
             "colorbar": {
              "outlinewidth": 0,
              "ticks": ""
             }
            },
            "type": "scatter"
           }
          ],
          "scatter3d": [
           {
            "line": {
             "colorbar": {
              "outlinewidth": 0,
              "ticks": ""
             }
            },
            "marker": {
             "colorbar": {
              "outlinewidth": 0,
              "ticks": ""
             }
            },
            "type": "scatter3d"
           }
          ],
          "scattercarpet": [
           {
            "marker": {
             "colorbar": {
              "outlinewidth": 0,
              "ticks": ""
             }
            },
            "type": "scattercarpet"
           }
          ],
          "scattergeo": [
           {
            "marker": {
             "colorbar": {
              "outlinewidth": 0,
              "ticks": ""
             }
            },
            "type": "scattergeo"
           }
          ],
          "scattergl": [
           {
            "marker": {
             "colorbar": {
              "outlinewidth": 0,
              "ticks": ""
             }
            },
            "type": "scattergl"
           }
          ],
          "scattermapbox": [
           {
            "marker": {
             "colorbar": {
              "outlinewidth": 0,
              "ticks": ""
             }
            },
            "type": "scattermapbox"
           }
          ],
          "scatterpolar": [
           {
            "marker": {
             "colorbar": {
              "outlinewidth": 0,
              "ticks": ""
             }
            },
            "type": "scatterpolar"
           }
          ],
          "scatterpolargl": [
           {
            "marker": {
             "colorbar": {
              "outlinewidth": 0,
              "ticks": ""
             }
            },
            "type": "scatterpolargl"
           }
          ],
          "scatterternary": [
           {
            "marker": {
             "colorbar": {
              "outlinewidth": 0,
              "ticks": ""
             }
            },
            "type": "scatterternary"
           }
          ],
          "surface": [
           {
            "colorbar": {
             "outlinewidth": 0,
             "ticks": ""
            },
            "colorscale": [
             [
              0,
              "#0d0887"
             ],
             [
              0.1111111111111111,
              "#46039f"
             ],
             [
              0.2222222222222222,
              "#7201a8"
             ],
             [
              0.3333333333333333,
              "#9c179e"
             ],
             [
              0.4444444444444444,
              "#bd3786"
             ],
             [
              0.5555555555555556,
              "#d8576b"
             ],
             [
              0.6666666666666666,
              "#ed7953"
             ],
             [
              0.7777777777777778,
              "#fb9f3a"
             ],
             [
              0.8888888888888888,
              "#fdca26"
             ],
             [
              1,
              "#f0f921"
             ]
            ],
            "type": "surface"
           }
          ],
          "table": [
           {
            "cells": {
             "fill": {
              "color": "#EBF0F8"
             },
             "line": {
              "color": "white"
             }
            },
            "header": {
             "fill": {
              "color": "#C8D4E3"
             },
             "line": {
              "color": "white"
             }
            },
            "type": "table"
           }
          ]
         },
         "layout": {
          "annotationdefaults": {
           "arrowcolor": "#2a3f5f",
           "arrowhead": 0,
           "arrowwidth": 1
          },
          "coloraxis": {
           "colorbar": {
            "outlinewidth": 0,
            "ticks": ""
           }
          },
          "colorscale": {
           "diverging": [
            [
             0,
             "#8e0152"
            ],
            [
             0.1,
             "#c51b7d"
            ],
            [
             0.2,
             "#de77ae"
            ],
            [
             0.3,
             "#f1b6da"
            ],
            [
             0.4,
             "#fde0ef"
            ],
            [
             0.5,
             "#f7f7f7"
            ],
            [
             0.6,
             "#e6f5d0"
            ],
            [
             0.7,
             "#b8e186"
            ],
            [
             0.8,
             "#7fbc41"
            ],
            [
             0.9,
             "#4d9221"
            ],
            [
             1,
             "#276419"
            ]
           ],
           "sequential": [
            [
             0,
             "#0d0887"
            ],
            [
             0.1111111111111111,
             "#46039f"
            ],
            [
             0.2222222222222222,
             "#7201a8"
            ],
            [
             0.3333333333333333,
             "#9c179e"
            ],
            [
             0.4444444444444444,
             "#bd3786"
            ],
            [
             0.5555555555555556,
             "#d8576b"
            ],
            [
             0.6666666666666666,
             "#ed7953"
            ],
            [
             0.7777777777777778,
             "#fb9f3a"
            ],
            [
             0.8888888888888888,
             "#fdca26"
            ],
            [
             1,
             "#f0f921"
            ]
           ],
           "sequentialminus": [
            [
             0,
             "#0d0887"
            ],
            [
             0.1111111111111111,
             "#46039f"
            ],
            [
             0.2222222222222222,
             "#7201a8"
            ],
            [
             0.3333333333333333,
             "#9c179e"
            ],
            [
             0.4444444444444444,
             "#bd3786"
            ],
            [
             0.5555555555555556,
             "#d8576b"
            ],
            [
             0.6666666666666666,
             "#ed7953"
            ],
            [
             0.7777777777777778,
             "#fb9f3a"
            ],
            [
             0.8888888888888888,
             "#fdca26"
            ],
            [
             1,
             "#f0f921"
            ]
           ]
          },
          "colorway": [
           "#636efa",
           "#EF553B",
           "#00cc96",
           "#ab63fa",
           "#FFA15A",
           "#19d3f3",
           "#FF6692",
           "#B6E880",
           "#FF97FF",
           "#FECB52"
          ],
          "font": {
           "color": "#2a3f5f"
          },
          "geo": {
           "bgcolor": "white",
           "lakecolor": "white",
           "landcolor": "#E5ECF6",
           "showlakes": true,
           "showland": true,
           "subunitcolor": "white"
          },
          "hoverlabel": {
           "align": "left"
          },
          "hovermode": "closest",
          "mapbox": {
           "style": "light"
          },
          "paper_bgcolor": "white",
          "plot_bgcolor": "#E5ECF6",
          "polar": {
           "angularaxis": {
            "gridcolor": "white",
            "linecolor": "white",
            "ticks": ""
           },
           "bgcolor": "#E5ECF6",
           "radialaxis": {
            "gridcolor": "white",
            "linecolor": "white",
            "ticks": ""
           }
          },
          "scene": {
           "xaxis": {
            "backgroundcolor": "#E5ECF6",
            "gridcolor": "white",
            "gridwidth": 2,
            "linecolor": "white",
            "showbackground": true,
            "ticks": "",
            "zerolinecolor": "white"
           },
           "yaxis": {
            "backgroundcolor": "#E5ECF6",
            "gridcolor": "white",
            "gridwidth": 2,
            "linecolor": "white",
            "showbackground": true,
            "ticks": "",
            "zerolinecolor": "white"
           },
           "zaxis": {
            "backgroundcolor": "#E5ECF6",
            "gridcolor": "white",
            "gridwidth": 2,
            "linecolor": "white",
            "showbackground": true,
            "ticks": "",
            "zerolinecolor": "white"
           }
          },
          "shapedefaults": {
           "line": {
            "color": "#2a3f5f"
           }
          },
          "ternary": {
           "aaxis": {
            "gridcolor": "white",
            "linecolor": "white",
            "ticks": ""
           },
           "baxis": {
            "gridcolor": "white",
            "linecolor": "white",
            "ticks": ""
           },
           "bgcolor": "#E5ECF6",
           "caxis": {
            "gridcolor": "white",
            "linecolor": "white",
            "ticks": ""
           }
          },
          "title": {
           "x": 0.05
          },
          "xaxis": {
           "automargin": true,
           "gridcolor": "white",
           "linecolor": "white",
           "ticks": "",
           "title": {
            "standoff": 15
           },
           "zerolinecolor": "white",
           "zerolinewidth": 2
          },
          "yaxis": {
           "automargin": true,
           "gridcolor": "white",
           "linecolor": "white",
           "ticks": "",
           "title": {
            "standoff": 15
           },
           "zerolinecolor": "white",
           "zerolinewidth": 2
          }
         }
        },
        "xaxis": {
         "anchor": "y",
         "domain": [
          0,
          1
         ],
         "title": {
          "text": "Province/State"
         }
        },
        "yaxis": {
         "anchor": "x",
         "domain": [
          0,
          1
         ],
         "title": {
          "text": "Confirmed"
         }
        }
       }
      },
      "text/html": [
       "<div>\n",
       "        \n",
       "        \n",
       "            <div id=\"bd93eef9-4dc6-487b-96da-bdab45ac99a9\" class=\"plotly-graph-div\" style=\"height:525px; width:100%;\"></div>\n",
       "            <script type=\"text/javascript\">\n",
       "                require([\"plotly\"], function(Plotly) {\n",
       "                    window.PLOTLYENV=window.PLOTLYENV || {};\n",
       "                    \n",
       "                if (document.getElementById(\"bd93eef9-4dc6-487b-96da-bdab45ac99a9\")) {\n",
       "                    Plotly.newPlot(\n",
       "                        'bd93eef9-4dc6-487b-96da-bdab45ac99a9',\n",
       "                        [{\"alignmentgroup\": \"True\", \"hoverlabel\": {\"namelength\": 0}, \"hovertemplate\": \"Province/State=%{x}<br>Confirmed=%{y}\", \"legendgroup\": \"\", \"marker\": {\"color\": \"#636efa\"}, \"name\": \"\", \"offsetgroup\": \"\", \"orientation\": \"v\", \"showlegend\": false, \"textposition\": \"auto\", \"type\": \"bar\", \"x\": [\"Anhui\", \"Beijing\", \"Chongqing\", \"Fujian\", \"Guangdong\", \"Guangxi\", \"Guizhou\", \"Hainan\", \"Hebei\", \"Henan\", \"Hubei\", \"Hunan\", \"Jiangsu\", \"Jiangxi\", \"Liaoning\", \"Macau\", \"Ningxia\", \"Shandong\", \"Shanghai\", \"Shanxi\", \"Sichuan\", \"Taiwan\", \"Tianjin\", \"Washington\", \"Yunnan\", \"Zhejiang\", null, null, null, \"Anhui\", \"Beijing\", \"Chongqing\", \"Fujian\", \"Gansu\", \"Guangdong\", \"Guangxi\", \"Guizhou\", \"Hainan\", \"Hebei\", \"Heilongjiang\", \"Henan\", \"Hong Kong\", \"Hubei\", \"Hunan\", \"Jiangsu\", \"Jiangxi\", \"Jilin\", \"Liaoning\", \"Macau\", \"Ningxia\", \"Shaanxi\", \"Shandong\", \"Shanghai\", \"Shanxi\", \"Sichuan\", \"Taiwan\", \"Tianjin\", \"Washington\", \"Xinjiang\", \"Yunnan\", \"Zhejiang\", null, null, null, null, null, \"Hubei\", \"Guangdong\", \"Zhejiang\", \"Beijing\", \"Chongqing\", \"Hunan\", \"Guangxi\", \"Shanghai\", \"Jiangxi\", \"Sichuan\", \"Shandong\", \"Anhui\", \"Fujian\", \"Henan\", \"Jiangsu\", \"Hainan\", \"Tianjin\", \"Yunnan\", \"Shaanxi\", \"Heilongjiang\", \"Liaoning\", \"Guizhou\", \"Jilin\", \"Taiwan\", \"Ningxia\", \"Hong Kong\", \"Macau\", \"Hebei\", \"Gansu\", \"Xinjiang\", \"Shanxi\", \"Inner Mongolia\", \"Washington\", \"Chicago\", null, null, null, null, null, null, \"Hubei\", \"Zhejiang\", \"Guangdong\", \"Henan\", \"Chongqing\", \"Hunan\", \"Anhui\", \"Beijing\", \"Sichuan\", \"Shanghai\", \"Shandong\", \"Jiangxi\", \"Guangxi\", \"Jiangsu\", \"Hainan\", \"Liaoning\", \"Fujian\", \"Heilongjiang\", \"Shaanxi\", \"Tianjin\", \"Hebei\", \"Yunnan\", \"Shanxi\", \"Inner Mongolia\", \"Gansu\", \"Guizhou\", \"Hong Kong\", \"Ningxia\", \"Jilin\", \"Xinjiang\", \"Taiwan\", \"Macau\", \"Qinghai\", \"Washington\", \"Illinois\", null, null, null, null, null, null, null, null, null, \"Hubei\", \"Guangdong\", \"Zhejiang\", \"Henan\", \"Chongqing\", \"Hunan\", \"Anhui\", \"Sichuan\", \"Beijing\", \"Shandong\", \"Shanghai\", \"Jiangxi\", \"Jiangsu\", \"Guangxi\", \"Fujian\", \"Liaoning\", \"Hainan\", \"Shaanxi\", \"Heilongjiang\", \"Yunnan\", \"Hebei\", \"Tianjin\", \"Gansu\", \"Shanxi\", \"Inner Mongolia\", \"Hong Kong\", \"Guizhou\", \"Jilin\", \"Macau\", \"Xinjiang\", \"Ningxia\", \"Taiwan\", \"Qinghai\", \"Washington\", \"Illinois\", \"California\", \"Arizona\", null, null, null, null, null, null, null, null, null, \"Ontario\", \"Hubei\", \"Zhejiang\", \"Henan\", \"Guangdong\", \"Chongqing\", \"Anhui\", \"Hunan\", \"Sichuan\", \"Shandong\", \"Beijing\", \"Jiangxi\", \"Jiangsu\", \"Shanghai\", \"Fujian\", \"Guangxi\", \"Shaanxi\", \"Hainan\", \"Hebei\", \"Heilongjiang\", \"Liaoning\", \"Yunnan\", \"Tianjin\", \"Shanxi\", \"Gansu\", \"Inner Mongolia\", \"Guizhou\", \"Hong Kong\", \"Ningxia\", \"Jilin\", \"Macau\", \"Qinghai\", \"Taiwan\", \"Xinjiang\", \"Washington\", \"Illinois\", \"California\", \"Arizona\", null, null, null, null, null, null, null, null, \"Ontario\", null, null, \"New South Wales\", \"Victoria\", \"Bavaria\", \"Hubei\", \"Zhejiang\", \"Guangdong\", \"Hunan\", \"Henan\", \"Anhui\", \"Chongqing\", \"Shandong\", \"Jiangxi\", \"Sichuan\", \"Jiangsu\", \"Beijing\", \"Fujian\", \"Shanghai\", \"Guangxi\", \"Shaanxi\", \"Hebei\", \"Yunnan\", \"Hainan\", \"Heilongjiang\", \"Liaoning\", \"Shanxi\", \"Tianjin\", \"Gansu\", \"Inner Mongolia\", \"Xinjiang\", \"Ningxia\", \"Guizhou\", \"Jilin\", \"Hong Kong\", \"Taiwan\", \"Macau\", \"Qinghai\", \"Washington\", \"Illinois\", \"California\", \"Arizona\", null, null, null, null, null, null, null, null, \"Ontario\", \"British Columbia\", null, null, \"New South Wales\", \"Victoria\", \"Bavaria\", \"Hubei\", \"Zhejiang\", \"Guangdong\", \"Henan\", \"Hunan\", \"Anhui\", \"Chongqing\", \"Jiangxi\", \"Shandong\", \"Sichuan\", \"Jiangsu\", \"Beijing\", \"Shanghai\", \"Fujian\", \"Guangxi\", \"Hebei\", \"Shaanxi\", \"Yunnan\", \"Hainan\", \"Heilongjiang\", \"Liaoning\", \"Shanxi\", \"Tianjin\", \"Gansu\", \"Inner Mongolia\", \"Jilin\", \"Xinjiang\", \"Guizhou\", \"Ningxia\", \"Hong Kong\", \"Taiwan\", \"Macau\", \"Qinghai\", \"Tibet\", \"Washington\", \"Illinois\", \"California\", \"Arizona\", null, null, null, null, null, null, null, null, \"Ontario\", \"British Columbia\", null, null, \"New South Wales\", \"Victoria\", \"Queensland\", \"Bavaria\", null, null, \"Hubei\", \"Zhejiang\", \"Guangdong\", \"Henan\", \"Hunan\", \"Jiangxi\", \"Anhui\", \"Chongqing\", \"Shandong\", \"Sichuan\", \"Jiangsu\", \"Shanghai\", \"Beijing\", \"Fujian\", \"Guangxi\", \"Hebei\", \"Yunnan\", \"Shaanxi\", \"Heilongjiang\", \"Hainan\", \"Liaoning\", \"Shanxi\", \"Tianjin\", \"Gansu\", \"Ningxia\", \"Inner Mongolia\", \"Xinjiang\", \"Guizhou\", \"Jilin\", \"Hong Kong\", \"Taiwan\", \"Qinghai\", \"Macau\", \"Tibet\", \"Washington\", \"Illinois\", \"California\", \"Arizona\", null, null, null, null, null, null, null, null, \"Ontario\", \"British Columbia\", null, null, \"New South Wales\", \"Victoria\", \"Queensland\", \"Bavaria\", null, null, null, null, null, \"Hubei\", \"Zhejiang\", \"Guangdong\", \"Henan\", \"Hunan\", \"Jiangxi\", \"Chongqing\", \"Anhui\", \"Shandong\", \"Sichuan\", \"Jiangsu\", \"Shanghai\", \"Beijing\", \"Fujian\", \"Hebei\", \"Guangxi\", \"Shaanxi\", \"Yunnan\", \"Liaoning\", \"Heilongjiang\", \"Hainan\", \"Shanxi\", \"Gansu\", \"Tianjin\", \"Guizhou\", \"Ningxia\", \"Inner Mongolia\", \"Xinjiang\", \"Jilin\", \"Hong Kong\", \"Taiwan\", \"Qinghai\", \"Macau\", \"Tibet\", \"Washington\", \"Illinois\", \"California\", \"Arizona\", null, null, null, null, null, null, null, null, \"Ontario\", \"British Columbia\", null, null, \"New South Wales\", \"Victoria\", \"Queensland\", \"Bavaria\", null, null, null, null, null, null, null, null, null], \"xaxis\": \"x\", \"y\": [1.0, 14.0, 6.0, 1.0, 26.0, 2.0, 1.0, 4.0, 1.0, 5.0, 444.0, 4.0, 1.0, 2.0, 2.0, 1.0, 1.0, 2.0, 9.0, 1.0, 5.0, 1.0, 4.0, 1.0, 1.0, 10.0, 2.0, 2.0, 1.0, 9.0, 22.0, 9.0, 5.0, 2.0, 32.0, 5.0, 3.0, 5.0, 1.0, 2.0, 5.0, 2.0, 444.0, 9.0, 5.0, 7.0, 1.0, 3.0, 2.0, 1.0, 3.0, 6.0, 16.0, 1.0, 8.0, 1.0, 4.0, 1.0, 2.0, 2.0, 27.0, 1.0, 3.0, 1.0, 1.0, 2.0, 549.0, 53.0, 43.0, 36.0, 27.0, 24.0, 23.0, 20.0, 18.0, 15.0, 15.0, 15.0, 10.0, 9.0, 9.0, 8.0, 8.0, 5.0, 5.0, 4.0, 4.0, 3.0, 3.0, 3.0, 2.0, 2.0, 2.0, 2.0, 2.0, 2.0, 1.0, 1.0, 1.0, 1.0, 2.0, 5.0, 2.0, 3.0, 2.0, 2.0, 1052.0, 104.0, 98.0, 83.0, 75.0, 69.0, 60.0, 51.0, 44.0, 40.0, 39.0, 36.0, 33.0, 31.0, 19.0, 19.0, 18.0, 15.0, 15.0, 13.0, 13.0, 11.0, 9.0, 7.0, 7.0, 5.0, 5.0, 4.0, 4.0, 4.0, 3.0, 2.0, 1.0, 1.0, 1.0, 2.0, 7.0, 3.0, 3.0, 2.0, 3.0, 4.0, 1.0, 3.0, 1423.0, 146.0, 128.0, 128.0, 110.0, 100.0, 70.0, 69.0, 68.0, 63.0, 53.0, 48.0, 47.0, 46.0, 35.0, 23.0, 22.0, 22.0, 21.0, 19.0, 18.0, 14.0, 14.0, 13.0, 11.0, 8.0, 7.0, 6.0, 6.0, 5.0, 4.0, 4.0, 4.0, 1.0, 1.0, 2.0, 1.0, 4.0, 8.0, 3.0, 4.0, 2.0, 3.0, 4.0, 1.0, 4.0, 1.0, 2714.0, 173.0, 168.0, 151.0, 132.0, 106.0, 100.0, 90.0, 87.0, 80.0, 72.0, 70.0, 66.0, 59.0, 51.0, 35.0, 33.0, 33.0, 30.0, 27.0, 26.0, 23.0, 20.0, 19.0, 11.0, 9.0, 8.0, 7.0, 6.0, 6.0, 6.0, 5.0, 5.0, 1.0, 1.0, 2.0, 1.0, 4.0, 8.0, 4.0, 5.0, 2.0, 3.0, 1.0, 4.0, 1.0, 1.0, 1.0, 4.0, 1.0, 1.0, 3554.0, 296.0, 241.0, 221.0, 206.0, 152.0, 147.0, 121.0, 109.0, 108.0, 99.0, 91.0, 82.0, 80.0, 58.0, 56.0, 48.0, 44.0, 43.0, 37.0, 36.0, 27.0, 25.0, 24.0, 16.0, 13.0, 12.0, 9.0, 9.0, 8.0, 8.0, 7.0, 6.0, 1.0, 1.0, 2.0, 1.0, 7.0, 14.0, 4.0, 7.0, 2.0, 4.0, 1.0, 7.0, 1.0, 1.0, 1.0, 1.0, 4.0, 1.0, 4.0, 4586.0, 428.0, 311.0, 278.0, 277.0, 200.0, 165.0, 162.0, 145.0, 142.0, 129.0, 111.0, 101.0, 101.0, 78.0, 65.0, 56.0, 55.0, 43.0, 43.0, 39.0, 35.0, 27.0, 26.0, 16.0, 14.0, 14.0, 12.0, 12.0, 10.0, 8.0, 7.0, 6.0, 1.0, 1.0, 1.0, 2.0, 1.0, 11.0, 14.0, 4.0, 10.0, 2.0, 5.0, 1.0, 7.0, 2.0, 1.0, 1.0, 1.0, 4.0, 2.0, 1.0, 4.0, 1.0, 4.0, 5806.0, 537.0, 393.0, 352.0, 332.0, 240.0, 237.0, 206.0, 178.0, 177.0, 168.0, 128.0, 121.0, 101.0, 87.0, 82.0, 76.0, 87.0, 59.0, 50.0, 45.0, 39.0, 32.0, 29.0, 21.0, 20.0, 17.0, 15.0, 14.0, 12.0, 9.0, 8.0, 7.0, 1.0, 1.0, 2.0, 2.0, 1.0, 11.0, 14.0, 6.0, 10.0, 2.0, 5.0, 1.0, 8.0, 2.0, 1.0, 1.0, 1.0, 4.0, 2.0, 3.0, 4.0, 1.0, 4.0, 1.0, 1.0, 2.0, 7153.0, 537.0, 436.0, 352.0, 332.0, 240.0, 238.0, 237.0, 184.0, 177.0, 168.0, 153.0, 139.0, 120.0, 96.0, 88.0, 87.0, 83.0, 60.0, 59.0, 58.0, 47.0, 35.0, 32.0, 29.0, 21.0, 20.0, 17.0, 14.0, 13.0, 10.0, 8.0, 7.0, 1.0, 1.0, 2.0, 3.0, 1.0, 17.0, 19.0, 11.0, 16.0, 2.0, 6.0, 1.0, 8.0, 2.0, 1.0, 1.0, 1.0, 4.0, 2.0, 3.0, 7.0, 1.0, 4.0, 1.0, 1.0, 2.0, 1.0, 2.0, 1.0, 2.0], \"yaxis\": \"y\"}],\n",
       "                        {\"barmode\": \"relative\", \"legend\": {\"tracegroupgap\": 0}, \"margin\": {\"t\": 60}, \"template\": {\"data\": {\"bar\": [{\"error_x\": {\"color\": \"#2a3f5f\"}, \"error_y\": {\"color\": \"#2a3f5f\"}, \"marker\": {\"line\": {\"color\": \"#E5ECF6\", \"width\": 0.5}}, \"type\": \"bar\"}], \"barpolar\": [{\"marker\": {\"line\": {\"color\": \"#E5ECF6\", \"width\": 0.5}}, \"type\": \"barpolar\"}], \"carpet\": [{\"aaxis\": {\"endlinecolor\": \"#2a3f5f\", \"gridcolor\": \"white\", \"linecolor\": \"white\", \"minorgridcolor\": \"white\", \"startlinecolor\": \"#2a3f5f\"}, \"baxis\": {\"endlinecolor\": \"#2a3f5f\", \"gridcolor\": \"white\", \"linecolor\": \"white\", \"minorgridcolor\": \"white\", \"startlinecolor\": \"#2a3f5f\"}, \"type\": \"carpet\"}], \"choropleth\": [{\"colorbar\": {\"outlinewidth\": 0, \"ticks\": \"\"}, \"type\": \"choropleth\"}], \"contour\": [{\"colorbar\": {\"outlinewidth\": 0, \"ticks\": \"\"}, \"colorscale\": [[0.0, \"#0d0887\"], [0.1111111111111111, \"#46039f\"], [0.2222222222222222, \"#7201a8\"], [0.3333333333333333, \"#9c179e\"], [0.4444444444444444, \"#bd3786\"], [0.5555555555555556, \"#d8576b\"], [0.6666666666666666, \"#ed7953\"], [0.7777777777777778, \"#fb9f3a\"], [0.8888888888888888, \"#fdca26\"], [1.0, \"#f0f921\"]], \"type\": \"contour\"}], \"contourcarpet\": [{\"colorbar\": {\"outlinewidth\": 0, \"ticks\": \"\"}, \"type\": \"contourcarpet\"}], \"heatmap\": [{\"colorbar\": {\"outlinewidth\": 0, \"ticks\": \"\"}, \"colorscale\": [[0.0, \"#0d0887\"], [0.1111111111111111, \"#46039f\"], [0.2222222222222222, \"#7201a8\"], [0.3333333333333333, \"#9c179e\"], [0.4444444444444444, \"#bd3786\"], [0.5555555555555556, \"#d8576b\"], [0.6666666666666666, \"#ed7953\"], [0.7777777777777778, \"#fb9f3a\"], [0.8888888888888888, \"#fdca26\"], [1.0, \"#f0f921\"]], \"type\": \"heatmap\"}], \"heatmapgl\": [{\"colorbar\": {\"outlinewidth\": 0, \"ticks\": \"\"}, \"colorscale\": [[0.0, \"#0d0887\"], [0.1111111111111111, \"#46039f\"], [0.2222222222222222, \"#7201a8\"], [0.3333333333333333, \"#9c179e\"], [0.4444444444444444, \"#bd3786\"], [0.5555555555555556, \"#d8576b\"], [0.6666666666666666, \"#ed7953\"], [0.7777777777777778, \"#fb9f3a\"], [0.8888888888888888, \"#fdca26\"], [1.0, \"#f0f921\"]], \"type\": \"heatmapgl\"}], \"histogram\": [{\"marker\": {\"colorbar\": {\"outlinewidth\": 0, \"ticks\": \"\"}}, \"type\": \"histogram\"}], \"histogram2d\": [{\"colorbar\": {\"outlinewidth\": 0, \"ticks\": \"\"}, \"colorscale\": [[0.0, \"#0d0887\"], [0.1111111111111111, \"#46039f\"], [0.2222222222222222, \"#7201a8\"], [0.3333333333333333, \"#9c179e\"], [0.4444444444444444, \"#bd3786\"], [0.5555555555555556, \"#d8576b\"], [0.6666666666666666, \"#ed7953\"], [0.7777777777777778, \"#fb9f3a\"], [0.8888888888888888, \"#fdca26\"], [1.0, \"#f0f921\"]], \"type\": \"histogram2d\"}], \"histogram2dcontour\": [{\"colorbar\": {\"outlinewidth\": 0, \"ticks\": \"\"}, \"colorscale\": [[0.0, \"#0d0887\"], [0.1111111111111111, \"#46039f\"], [0.2222222222222222, \"#7201a8\"], [0.3333333333333333, \"#9c179e\"], [0.4444444444444444, \"#bd3786\"], [0.5555555555555556, \"#d8576b\"], [0.6666666666666666, \"#ed7953\"], [0.7777777777777778, \"#fb9f3a\"], [0.8888888888888888, \"#fdca26\"], [1.0, \"#f0f921\"]], \"type\": \"histogram2dcontour\"}], \"mesh3d\": [{\"colorbar\": {\"outlinewidth\": 0, \"ticks\": \"\"}, \"type\": \"mesh3d\"}], \"parcoords\": [{\"line\": {\"colorbar\": {\"outlinewidth\": 0, \"ticks\": \"\"}}, \"type\": \"parcoords\"}], \"pie\": [{\"automargin\": true, \"type\": \"pie\"}], \"scatter\": [{\"marker\": {\"colorbar\": {\"outlinewidth\": 0, \"ticks\": \"\"}}, \"type\": \"scatter\"}], \"scatter3d\": [{\"line\": {\"colorbar\": {\"outlinewidth\": 0, \"ticks\": \"\"}}, \"marker\": {\"colorbar\": {\"outlinewidth\": 0, \"ticks\": \"\"}}, \"type\": \"scatter3d\"}], \"scattercarpet\": [{\"marker\": {\"colorbar\": {\"outlinewidth\": 0, \"ticks\": \"\"}}, \"type\": \"scattercarpet\"}], \"scattergeo\": [{\"marker\": {\"colorbar\": {\"outlinewidth\": 0, \"ticks\": \"\"}}, \"type\": \"scattergeo\"}], \"scattergl\": [{\"marker\": {\"colorbar\": {\"outlinewidth\": 0, \"ticks\": \"\"}}, \"type\": \"scattergl\"}], \"scattermapbox\": [{\"marker\": {\"colorbar\": {\"outlinewidth\": 0, \"ticks\": \"\"}}, \"type\": \"scattermapbox\"}], \"scatterpolar\": [{\"marker\": {\"colorbar\": {\"outlinewidth\": 0, \"ticks\": \"\"}}, \"type\": \"scatterpolar\"}], \"scatterpolargl\": [{\"marker\": {\"colorbar\": {\"outlinewidth\": 0, \"ticks\": \"\"}}, \"type\": \"scatterpolargl\"}], \"scatterternary\": [{\"marker\": {\"colorbar\": {\"outlinewidth\": 0, \"ticks\": \"\"}}, \"type\": \"scatterternary\"}], \"surface\": [{\"colorbar\": {\"outlinewidth\": 0, \"ticks\": \"\"}, \"colorscale\": [[0.0, \"#0d0887\"], [0.1111111111111111, \"#46039f\"], [0.2222222222222222, \"#7201a8\"], [0.3333333333333333, \"#9c179e\"], [0.4444444444444444, \"#bd3786\"], [0.5555555555555556, \"#d8576b\"], [0.6666666666666666, \"#ed7953\"], [0.7777777777777778, \"#fb9f3a\"], [0.8888888888888888, \"#fdca26\"], [1.0, \"#f0f921\"]], \"type\": \"surface\"}], \"table\": [{\"cells\": {\"fill\": {\"color\": \"#EBF0F8\"}, \"line\": {\"color\": \"white\"}}, \"header\": {\"fill\": {\"color\": \"#C8D4E3\"}, \"line\": {\"color\": \"white\"}}, \"type\": \"table\"}]}, \"layout\": {\"annotationdefaults\": {\"arrowcolor\": \"#2a3f5f\", \"arrowhead\": 0, \"arrowwidth\": 1}, \"coloraxis\": {\"colorbar\": {\"outlinewidth\": 0, \"ticks\": \"\"}}, \"colorscale\": {\"diverging\": [[0, \"#8e0152\"], [0.1, \"#c51b7d\"], [0.2, \"#de77ae\"], [0.3, \"#f1b6da\"], [0.4, \"#fde0ef\"], [0.5, \"#f7f7f7\"], [0.6, \"#e6f5d0\"], [0.7, \"#b8e186\"], [0.8, \"#7fbc41\"], [0.9, \"#4d9221\"], [1, \"#276419\"]], \"sequential\": [[0.0, \"#0d0887\"], [0.1111111111111111, \"#46039f\"], [0.2222222222222222, \"#7201a8\"], [0.3333333333333333, \"#9c179e\"], [0.4444444444444444, \"#bd3786\"], [0.5555555555555556, \"#d8576b\"], [0.6666666666666666, \"#ed7953\"], [0.7777777777777778, \"#fb9f3a\"], [0.8888888888888888, \"#fdca26\"], [1.0, \"#f0f921\"]], \"sequentialminus\": [[0.0, \"#0d0887\"], [0.1111111111111111, \"#46039f\"], [0.2222222222222222, \"#7201a8\"], [0.3333333333333333, \"#9c179e\"], [0.4444444444444444, \"#bd3786\"], [0.5555555555555556, \"#d8576b\"], [0.6666666666666666, \"#ed7953\"], [0.7777777777777778, \"#fb9f3a\"], [0.8888888888888888, \"#fdca26\"], [1.0, \"#f0f921\"]]}, \"colorway\": [\"#636efa\", \"#EF553B\", \"#00cc96\", \"#ab63fa\", \"#FFA15A\", \"#19d3f3\", \"#FF6692\", \"#B6E880\", \"#FF97FF\", \"#FECB52\"], \"font\": {\"color\": \"#2a3f5f\"}, \"geo\": {\"bgcolor\": \"white\", \"lakecolor\": \"white\", \"landcolor\": \"#E5ECF6\", \"showlakes\": true, \"showland\": true, \"subunitcolor\": \"white\"}, \"hoverlabel\": {\"align\": \"left\"}, \"hovermode\": \"closest\", \"mapbox\": {\"style\": \"light\"}, \"paper_bgcolor\": \"white\", \"plot_bgcolor\": \"#E5ECF6\", \"polar\": {\"angularaxis\": {\"gridcolor\": \"white\", \"linecolor\": \"white\", \"ticks\": \"\"}, \"bgcolor\": \"#E5ECF6\", \"radialaxis\": {\"gridcolor\": \"white\", \"linecolor\": \"white\", \"ticks\": \"\"}}, \"scene\": {\"xaxis\": {\"backgroundcolor\": \"#E5ECF6\", \"gridcolor\": \"white\", \"gridwidth\": 2, \"linecolor\": \"white\", \"showbackground\": true, \"ticks\": \"\", \"zerolinecolor\": \"white\"}, \"yaxis\": {\"backgroundcolor\": \"#E5ECF6\", \"gridcolor\": \"white\", \"gridwidth\": 2, \"linecolor\": \"white\", \"showbackground\": true, \"ticks\": \"\", \"zerolinecolor\": \"white\"}, \"zaxis\": {\"backgroundcolor\": \"#E5ECF6\", \"gridcolor\": \"white\", \"gridwidth\": 2, \"linecolor\": \"white\", \"showbackground\": true, \"ticks\": \"\", \"zerolinecolor\": \"white\"}}, \"shapedefaults\": {\"line\": {\"color\": \"#2a3f5f\"}}, \"ternary\": {\"aaxis\": {\"gridcolor\": \"white\", \"linecolor\": \"white\", \"ticks\": \"\"}, \"baxis\": {\"gridcolor\": \"white\", \"linecolor\": \"white\", \"ticks\": \"\"}, \"bgcolor\": \"#E5ECF6\", \"caxis\": {\"gridcolor\": \"white\", \"linecolor\": \"white\", \"ticks\": \"\"}}, \"title\": {\"x\": 0.05}, \"xaxis\": {\"automargin\": true, \"gridcolor\": \"white\", \"linecolor\": \"white\", \"ticks\": \"\", \"title\": {\"standoff\": 15}, \"zerolinecolor\": \"white\", \"zerolinewidth\": 2}, \"yaxis\": {\"automargin\": true, \"gridcolor\": \"white\", \"linecolor\": \"white\", \"ticks\": \"\", \"title\": {\"standoff\": 15}, \"zerolinecolor\": \"white\", \"zerolinewidth\": 2}}}, \"xaxis\": {\"anchor\": \"y\", \"domain\": [0.0, 1.0], \"title\": {\"text\": \"Province/State\"}}, \"yaxis\": {\"anchor\": \"x\", \"domain\": [0.0, 1.0], \"title\": {\"text\": \"Confirmed\"}}},\n",
       "                        {\"responsive\": true}\n",
       "                    ).then(function(){\n",
       "                            \n",
       "var gd = document.getElementById('bd93eef9-4dc6-487b-96da-bdab45ac99a9');\n",
       "var x = new MutationObserver(function (mutations, observer) {{\n",
       "        var display = window.getComputedStyle(gd).display;\n",
       "        if (!display || display === 'none') {{\n",
       "            console.log([gd, 'removed!']);\n",
       "            Plotly.purge(gd);\n",
       "            observer.disconnect();\n",
       "        }}\n",
       "}});\n",
       "\n",
       "// Listen for the removal of the full notebook cells\n",
       "var notebookContainer = gd.closest('#notebook-container');\n",
       "if (notebookContainer) {{\n",
       "    x.observe(notebookContainer, {childList: true});\n",
       "}}\n",
       "\n",
       "// Listen for the clearing of the current output cell\n",
       "var outputEl = gd.closest('.output');\n",
       "if (outputEl) {{\n",
       "    x.observe(outputEl, {childList: true});\n",
       "}}\n",
       "\n",
       "                        })\n",
       "                };\n",
       "                });\n",
       "            </script>\n",
       "        </div>"
      ]
     },
     "metadata": {},
     "output_type": "display_data"
    }
   ],
   "source": [
    "import plotly.express as px\n",
    "fig = px.bar(df, x='Province/State', y='Confirmed')\n",
    "fig.show()"
   ]
  },
  {
   "cell_type": "markdown",
   "metadata": {},
   "source": [
    "На данном графике участвуют переменные по количеству подтвержденных случаев заболевания короновирусом (Confirmed) и регионы (Province/State)\n",
    "\n",
    "Цель: показать на графике эпицентр распорстранения короновируса.\n",
    "\n",
    "Как мы видим, эпиценторм распорстранения короновируса является провинция Китая - Хунань."
   ]
  },
  {
   "cell_type": "code",
   "execution_count": 93,
   "metadata": {},
   "outputs": [
    {
     "data": {
      "image/png": "[encoded data removed]",
      "text/plain": [
       "<Figure size 1152x720 with 1 Axes>"
      ]
     },
     "metadata": {
      "needs_background": "light"
     },
     "output_type": "display_data"
    }
   ],
   "source": [
    "pivoted = pd.pivot_table(df, values='Confirmed', columns='Country', index='Day')\n",
    "pivoted.plot(figsize=(16,10));"
   ]
  },
  {
   "cell_type": "markdown",
   "metadata": {},
   "source": [
    "На данном графике участвуют переменные по дням (Day), по количеству подтвержденных случаев заболевания короновирусом (Confirmed) и каждая линия показывает страну (Country)\n",
    "\n",
    "Цель: проаналилзировать рост заболевающих короновирусом в каждой стране.\n",
    "\n",
    "Как мы видим, значительным ростом короновируса выделяется только материковом Китае (Mainland China)\n"
   ]
  },
  {
   "cell_type": "code",
   "execution_count": 94,
   "metadata": {},
   "outputs": [
    {
     "data": {
      "text/plain": [
       "<matplotlib.axes._subplots.AxesSubplot at 0x11535cc8>"
      ]
     },
     "execution_count": 94,
     "metadata": {},
     "output_type": "execute_result"
    },
    {
     "data": {
      "image/png": "[encoded data removed]",
      "text/plain": [
       "<Figure size 432x288 with 1 Axes>"
      ]
     },
     "metadata": {},
     "output_type": "display_data"
    }
   ],
   "source": [
    "deaths = df.groupby(['Country']).sum().sort_values(by='Deaths', ascending=False).head(5)\n",
    "deaths.plot(kind='pie', y='Deaths')"
   ]
  },
  {
   "cell_type": "markdown",
   "metadata": {},
   "source": [
    "На данном графике участвуют переменные по количеству смертей от короновируса (Deaths) и первый 5 стран (Country).\n",
    "\n",
    "Цель: проаналилзировать где больше всего умерло людей от короновируса.\n",
    "\n",
    "Как мы видим, 100% всех смертей пришлось только на материковый Китай (Mainland China). В других странах смертей от короновируса не зарегистрировано"
   ]
  },
  {
   "cell_type": "code",
   "execution_count": 95,
   "metadata": {},
   "outputs": [
    {
     "data": {
      "text/plain": [
       "<matplotlib.axes._subplots.AxesSubplot at 0x1159cfc8>"
      ]
     },
     "execution_count": 95,
     "metadata": {},
     "output_type": "execute_result"
    },
    {
     "data": {
      "image/png": "[encoded data removed]",
      "text/plain": [
       "<Figure size 432x288 with 1 Axes>"
      ]
     },
     "metadata": {
      "needs_background": "light"
     },
     "output_type": "display_data"
    }
   ],
   "source": [
    "temp = df[df['Day'] == 22]\n",
    "temp.groupby('Country').sum()['Confirmed'].plot.bar()"
   ]
  },
  {
   "cell_type": "markdown",
   "metadata": {},
   "source": [
    "На данном графике участвуют переменные по количеству подтвержденных случаев заболевания короновирусом (Confirmed) и первый 5 стран (Country), в которые проник короновирус.\n",
    "\n",
    "Цель: проаналилзировать какие страны изначально были затронуты короновирусом, в первый день выявления. Т.е. потенциально опасные страны для посещения.\n",
    "\n",
    "Как мы видим, в первый день, 22 января 2020 г. заражения были обнаружены в Китае, Японии, Южной Корее, Таиланде и США"
   ]
  },
  {
   "cell_type": "code",
   "execution_count": null,
   "metadata": {},
   "outputs": [],
   "source": []
  }
 ],
 "metadata": {
  "kernelspec": {
   "display_name": "Python 3",
   "language": "python",
   "name": "python3"
  },
  "language_info": {
   "codemirror_mode": {
    "name": "ipython",
    "version": 3
   },
   "file_extension": ".py",
   "mimetype": "text/x-python",
   "name": "python",
   "nbconvert_exporter": "python",
   "pygments_lexer": "ipython3",
   "version": "3.7.4"
  }
 },
 "nbformat": 4,
 "nbformat_minor": 4
}
