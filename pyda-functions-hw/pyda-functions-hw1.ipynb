{
 "cells": [
  {
   "cell_type": "markdown",
   "metadata": {},
   "source": [
    "## Задание 1"
   ]
  },
  {
   "cell_type": "markdown",
   "metadata": {},
   "source": [
    "Дан список вида:"
   ]
  },
  {
   "cell_type": "code",
   "execution_count": 4,
   "metadata": {},
   "outputs": [],
   "source": [
    "data = [\n",
    "    [13, 25, 23, 34],\n",
    "    [45, 32, 44, 47],\n",
    "    [12, 33, 23, 95],\n",
    "    [13, 53, 34, 35]\n",
    "]"
   ]
  },
  {
   "cell_type": "markdown",
   "metadata": {},
   "source": [
    "Напишите функцию, которая возвращает сумму элементов на диагонали. Т. е. 13+32+23+35.  \n",
    "Список может быть любой длины, но всегда является \"квадратным\" (количество элементов во вложенных списках равно их количеству)."
   ]
  },
  {
   "cell_type": "code",
   "execution_count": 5,
   "metadata": {},
   "outputs": [
    {
     "name": "stdout",
     "output_type": "stream",
     "text": [
      "103\n"
     ]
    }
   ],
   "source": [
    "def sum_diagonal (*params):\n",
    "    s=0\n",
    "    i=0\n",
    "    while i<=len(data)-1:\n",
    "        s+=(data[i][i])\n",
    "        i+=1\n",
    "    return(s)\n",
    "print (sum_diagonal(data))"
   ]
  },
  {
   "cell_type": "markdown",
   "metadata": {},
   "source": [
    "## Задание 2"
   ]
  },
  {
   "cell_type": "markdown",
   "metadata": {},
   "source": [
    "Напишите функцию, возвращающую сумму первых n чисел Фибоначчи (для этого вам может понадобится ознакомиться с рекурсией)."
   ]
  },
  {
   "cell_type": "code",
   "execution_count": 7,
   "metadata": {},
   "outputs": [
    {
     "name": "stdout",
     "output_type": "stream",
     "text": [
      "Введите, пожалуйста, количество чисел Фиббоначи: 15\n",
      "Сумма первых 15 чисел Фибоначчи = 1596\n"
     ]
    }
   ],
   "source": [
    "n=int(input('Введите, пожалуйста, количество чисел Фиббоначи: '))\n",
    "def fibonacci(n):\n",
    "    if n<2:\n",
    "        return 1\n",
    "    else:\n",
    "        result = fibonacci(n-1) + fibonacci(n-2)\n",
    "        return result\n",
    "sum=0\n",
    "for i in range(0, n):\n",
    "    sum += fibonacci(i)\n",
    "print(\"Сумма первых\",n,'чисел Фибоначчи =',sum)"
   ]
  },
  {
   "cell_type": "markdown",
   "metadata": {},
   "source": [
    "## Задание 3\n"
   ]
  },
  {
   "cell_type": "markdown",
   "metadata": {},
   "source": [
    "Напишите функцию, преобразующую произвольный список вида ['2018-01-01', 'yandex', 'cpc', 100] (он может быть любой длины) в словарь {'2018-01-01': {'yandex': {'cpc': 100}}}"
   ]
  },
  {
   "cell_type": "code",
   "execution_count": 9,
   "metadata": {},
   "outputs": [
    {
     "name": "stdout",
     "output_type": "stream",
     "text": [
      "{'2018-01-01': {'yandex': {'cpc': 100}}}\n"
     ]
    }
   ],
   "source": [
    "spisok=['2018-01-01', 'yandex', 'cpc', 100]\n",
    "def convert(list):\n",
    "    if len(list) > 2:\n",
    "        rez_dict={list[0]: convert(list[1::])}\n",
    "        return rez_dict\n",
    "    elif len(list) == 2:\n",
    "        rez_dict={list[0]: list[1]}\n",
    "        return rez_dict   \n",
    "print(convert(spisok)) "
   ]
  },
  {
   "cell_type": "markdown",
   "metadata": {},
   "source": [
    "## Задание 4"
   ]
  },
  {
   "cell_type": "markdown",
   "metadata": {},
   "source": [
    "Вы работаете секретарем и вам постоянно приходят различные документы. Вы должны быть очень внимательны, чтобы не потерять ни один документ. Каталог документов хранится в следующем виде:"
   ]
  },
  {
   "cell_type": "code",
   "execution_count": 4,
   "metadata": {},
   "outputs": [],
   "source": [
    "documents = [\n",
    "    {'type': 'passport', 'number': '2207 876234', 'name': 'Василий Гупкин'},\n",
    "    {'type': 'invoice', 'number': '11-2', 'name': 'Геннадий Покемонов'},\n",
    "    {'type': 'insurance', 'number': '10006', 'name': 'Аристарх Павлов'}\n",
    "]"
   ]
  },
  {
   "cell_type": "markdown",
   "metadata": {},
   "source": [
    "Перечень полок, на которых находятся документы хранится в следующем виде:"
   ]
  },
  {
   "cell_type": "code",
   "execution_count": 5,
   "metadata": {},
   "outputs": [],
   "source": [
    "directories = {\n",
    "    '1': ['2207 876234', '11-2', '5455 028765'],\n",
    "    '2': ['10006', '5400 028765', '5455 002299'],\n",
    "    '3': []\n",
    "}"
   ]
  },
  {
   "cell_type": "markdown",
   "metadata": {},
   "source": [
    "# Необходимо реализовать пользовательские команды (внимание! это не название функций, которые должны быть выразительными, а команды, которые вводит пользователь, чтобы получить необходимый результат):\n",
    "  \n",
    "- p – people – команда, которая спросит номер документа и выведет имя человека, которому он принадлежит;  \n",
    "- s – shelf – команда, которая спросит номер документа и выведет номер полки, на которой он находится  \n",
    "Правильно обработайте ситуацию, когда пользователь будет вводить несуществующий документ.\n",
    "- l – list – команда, которая выведет список всех документов в формате   \n",
    "**passport \"2207 876234\" \"Василий Гупкин\"**  \n",
    "- as – add shelf – команда, которая спросит номер новой полки и добавит ее в перечень\n",
    "- d – delete – команда, которая спросит номер документа и удалит его из каталога и из перечня полок. Предусмотрите сценарий, когда пользователь вводит несуществующий документ;  \n",
    "- m – move – команда, которая спросит номер документа и целевую полку и переместит его с текущей полки на целевую. Корректно обработайте кейсы, когда пользователь пытается переместить несуществующий документ или переместить документ на несуществующую полку;  \n",
    "- a – add – команда, которая добавит новый документ в каталог и в перечень полок, спросив его номер, тип, имя владельца и номер полки, на котором он будет храниться."
   ]
  },
  {
   "cell_type": "code",
   "execution_count": 11,
   "metadata": {},
   "outputs": [
    {
     "name": "stdout",
     "output_type": "stream",
     "text": [
      "Список доступных команд: p, s, l, as, d, m, a\n",
      "Введите команду: l\n",
      "passport \"2207 876234\" \"Василий Гупкин\"\n",
      "invoice \"11-2\" \"Геннадий Покемонов\"\n",
      "insurance \"10006\" \"Аристарх Павлов\"\n"
     ]
    }
   ],
   "source": [
    "documents = [\n",
    "    {'type': 'passport', 'number': '2207 876234', 'name': 'Василий Гупкин'},\n",
    "    {'type': 'invoice', 'number': '11-2', 'name': 'Геннадий Покемонов'},\n",
    "    {'type': 'insurance', 'number': '10006', 'name': 'Аристарх Павлов'}\n",
    "]\n",
    "directories = {\n",
    "    '1': ['2207 876234', '11-2', '5455 028765'],\n",
    "    '2': ['10006', '5400 028765', '5455 002299'],\n",
    "    '3': []\n",
    "}\n",
    "print('Список доступных команд: p, s, l, as, d, m, a')\n",
    "\n",
    "def people(numbers):\n",
    "    for i in documents:\n",
    "        if i['number'] == numbers:\n",
    "            print(i['name'])\n",
    "            break\n",
    "    else:\n",
    "        print('Введённый номер документа отсутсвует в базе.')\n",
    "\n",
    "def shelf(numbers):\n",
    "    flag = 0\n",
    "    for i in directories.items():\n",
    "        for document_numbers in i[1]:\n",
    "            if document_numbers == numbers:\n",
    "                print (i[0])\n",
    "                flag = 1\n",
    "                break\n",
    "        if flag == 1:\n",
    "            break\n",
    "    else:\n",
    "        print('Введённый номер документа отсутсвует в базе.')\n",
    "\n",
    "def list():\n",
    "    for i in documents:\n",
    "        print(str(i['type'])+' \"'+str(i['number'])+'\"'+' \"'+str(i['name'])+'\"')\n",
    "\n",
    "def add_shelf (shelf_numbers):\n",
    "    if shelf_numbers in directories.keys():\n",
    "        print('Такой номер полки уже существует')\n",
    "    else:\n",
    "        directories[shelf_numbers]=[]\n",
    "    #print(directories)\n",
    "\n",
    "def delete(numbers):\n",
    "    flag = 0\n",
    "    for i in documents:\n",
    "        if i['number'] == numbers:\n",
    "            documents.remove(i)\n",
    "    for i in directories.values():\n",
    "        if numbers in i:\n",
    "            i.remove(numbers)\n",
    "            flag = 1\n",
    "            break\n",
    "        if flag == 1:\n",
    "            break\n",
    "    else:\n",
    "        print('Введённый номер документа отсутсвует в базе.')\n",
    "    #print(documents)\n",
    "    #print(directories)\n",
    "\n",
    "def move (numbers, shelf_numbers):\n",
    "    flag=0\n",
    "    for i in directories.values():\n",
    "        if numbers in i:\n",
    "            if shelf_numbers in directories.keys():\n",
    "                i.remove(numbers)\n",
    "                directories[shelf_numbers].append(numbers)\n",
    "                flag = 1\n",
    "                break\n",
    "            if flag == 1:\n",
    "                break\n",
    "            else:\n",
    "                print('Указанной целевой полки не существует')\n",
    "                break\n",
    "    else:\n",
    "        print('Введённый номер документа отсутсвует в базе.')\n",
    "    #print(directories)\n",
    "\n",
    "def add (numbers, names, type_document, shelf_numbers):\n",
    "    if shelf_numbers in directories.keys():\n",
    "        directories[shelf_numbers].append(numbers)\n",
    "        documents.append({'type': type_document, 'number': numbers, 'name': names})\n",
    "    else:\n",
    "        print('Введенный номер полки не существует')        \n",
    "    #print(documents)\n",
    "    #print(directories)\n",
    "        \n",
    "command=str(input('Введите команду: '))\n",
    "if command == 'p':\n",
    "    people(str(input('Введите номер документа: ')))\n",
    "elif command == 's':\n",
    "    shelf(str(input('Введите номер документа: ')))\n",
    "elif command == 'l':\n",
    "    list()\n",
    "elif command == 'as':\n",
    "    add_shelf(str(input('Введите номер новой полки: ')))\n",
    "elif command == 'd':\n",
    "    delete(str(input('Введите номер документа: ')))\n",
    "elif command == 'm':\n",
    "    move (str(input('Введите номер документа: ')), str(input('Введите целевую полку: ')))\n",
    "elif command == 'a':\n",
    "    add (str(input('Введите номер документа: ')), str(input('Введите имя владельца документа: ')), str(input('Введите тим документа: ')), str(input('Введите номер полки, на которой будет храниться документ:')))\n",
    "else:\n",
    "    print('Введеной команды не существует!')"
   ]
  },
  {
   "cell_type": "code",
   "execution_count": null,
   "metadata": {},
   "outputs": [],
   "source": []
  }
 ],
 "metadata": {
  "kernelspec": {
   "display_name": "Python 3",
   "language": "python",
   "name": "python3"
  },
  "language_info": {
   "codemirror_mode": {
    "name": "ipython",
    "version": 3
   },
   "file_extension": ".py",
   "mimetype": "text/x-python",
   "name": "python",
   "nbconvert_exporter": "python",
   "pygments_lexer": "ipython3",
   "version": "3.7.4"
  }
 },
 "nbformat": 4,
 "nbformat_minor": 2
}
